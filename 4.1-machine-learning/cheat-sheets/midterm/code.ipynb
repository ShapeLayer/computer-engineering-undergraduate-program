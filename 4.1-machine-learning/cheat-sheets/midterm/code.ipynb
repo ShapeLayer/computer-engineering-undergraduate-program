{
 "cells": [
  {
   "cell_type": "markdown",
   "id": "f0c840ea",
   "metadata": {},
   "source": [
    "# Pandas"
   ]
  },
  {
   "cell_type": "code",
   "execution_count": null,
   "id": "1394d255",
   "metadata": {},
   "outputs": [],
   "source": [
    "import pandas as po"
   ]
  },
  {
   "cell_type": "code",
   "execution_count": null,
   "id": "f26efc57",
   "metadata": {},
   "outputs": [],
   "source": [
    "df = pd.DataFrame()\n",
    "\n",
    "df = pd.read_csv(path, sep=seperator)\n",
    "# 파일에 헤더가 없으나, 로드된 데이터에는 넣고자 할 경우\n",
    "df = pd.read_csv(path, sep=seperator, header=None, names=headers)"
   ]
  },
  {
   "cell_type": "code",
   "execution_count": null,
   "id": "334c02a6",
   "metadata": {},
   "outputs": [],
   "source": [
    "# Column2를 기준으로 데이터 유형 개수 분석\n",
    "df.groupby(['Column1', 'Column2', ...])['Column2'].count()\n",
    "\n",
    "# df에서 'Column' 제거\n",
    "df.drop('Column', axis=int, inplace=True)\n",
    "\n",
    "# df에서 각 행에 함수 적용\n",
    "df['newColumn'] = df['Column'].apply(func)\n",
    "\n",
    "# Location\n",
    "df.iloc[index]\n",
    "df.iloc[1, -1]\n",
    "df.loc[condition]\n",
    "df.loc[['Column1', 'Column2', ...]]"
   ]
  },
  {
   "cell_type": "markdown",
   "id": "4cd84d58",
   "metadata": {},
   "source": [
    "# Scikit-Learn"
   ]
  },
  {
   "cell_type": "code",
   "execution_count": null,
   "id": "667caca6",
   "metadata": {},
   "outputs": [],
   "source": [
    "from sklearn.metrics import accuracy_score"
   ]
  },
  {
   "cell_type": "markdown",
   "id": "7b8ff67f",
   "metadata": {},
   "source": [
    "### Preprocessing"
   ]
  },
  {
   "cell_type": "code",
   "execution_count": null,
   "id": "d3859c32",
   "metadata": {},
   "outputs": [],
   "source": [
    "from sklearn import preprocessing\n",
    "\n",
    "\n",
    "le = preprocessing.LabelEncoder()\n",
    "\n",
    "# 범주형 변수에 숫자 할당\n",
    "le = le.fit(df['Categorical Column'])\n",
    "df['Categorical Column'] = le.transform(df['Categorical Column'])"
   ]
  },
  {
   "cell_type": "markdown",
   "id": "2abd9bed",
   "metadata": {},
   "source": [
    "### Preparing Training"
   ]
  },
  {
   "cell_type": "code",
   "execution_count": null,
   "id": "ebd7a6f5",
   "metadata": {},
   "outputs": [],
   "source": [
    "from sklearn.model_selection import train_test_split\n",
    "\n",
    "\n",
    "X_train, X_test, y_train, y_test = train_test_split(\n",
    "    X,\n",
    "    y,\n",
    "    test_size=0.2,\n",
    "    random_state=11\n",
    ")"
   ]
  },
  {
   "cell_type": "markdown",
   "id": "b7c34763",
   "metadata": {},
   "source": [
    "### Classification"
   ]
  },
  {
   "cell_type": "code",
   "execution_count": null,
   "id": "b7a28b1b",
   "metadata": {},
   "outputs": [],
   "source": [
    "from sklearn.tree import DecisionTreeClassifier\n",
    "from sklearn.ensemble import RandomForestClassifier\n",
    "from sklearn.linear_model import LogisticRegression\n",
    "\n",
    "\n",
    "dt_clf = DecisionTreeClassifier(random_state=1)\n",
    "rf_clf = RandomForestClassifier(random_state=1)\n",
    "lr_clf = LogisticRegression()"
   ]
  },
  {
   "cell_type": "code",
   "execution_count": null,
   "id": "f0bad95c",
   "metadata": {},
   "outputs": [],
   "source": [
    "# DecisionTreeClassifier 학습/예측/평가\n",
    "dt_clf.fit(X_train, y_train)\n",
    "dt_pred = dt_clf.predict(X_test)\n",
    "print(\n",
    "    'DecisionTreeClassifier 정확도: {0:.4f}'\n",
    "    .format(accuracy_score(y_test, dt_pred))\n",
    ")\n",
    "\n",
    "# RandomForestClassifier 학습/예측/평가\n",
    "rf_clf.fit(X_train, y_train)\n",
    "rf_pred = rf_clf.predict(X_test)\n",
    "print(\n",
    "    'RandomForestClassifier 정확도:{0:.4f}'\n",
    "    .format(accuracy_score(y_test, rf_pred))\n",
    ")\n",
    "\n",
    "# LogisticRegression 학습/예측/평가\n",
    "lr_clf.fit(X_train , y_train)\n",
    "lr_pred = lr_clf.predict(X_test)\n",
    "print(\n",
    "    'LogisticRegression 정확도: {0:.4f}'\n",
    "    .format(accuracy_score(y_test, lr_pred))\n",
    ")"
   ]
  },
  {
   "cell_type": "markdown",
   "id": "156d569d",
   "metadata": {},
   "source": []
  },
  {
   "cell_type": "code",
   "execution_count": null,
   "id": "551f72aa",
   "metadata": {},
   "outputs": [],
   "source": [
    "from sklearn.model_selection import KFold\n",
    "\n",
    "\n",
    "clf = (Classifier)\n",
    "kfold = KFold(n_splits=5)\n",
    "for train_index, test_index in kfold.split(X):\n",
    "    print(train_index, test_index)\n",
    "    # [1667 1668 1669 ... 9997 9998 9999] [   0    1    2 ... 1664 1665 1666]\n",
    "    # [   0    1    2 ... 9997 9998 9999] [1667 1668 1669 ... 3331 3332 3333]\n",
    "    # [   0    1    2 ... 9997 9998 9999] [3334 3335 3336 ... 4998 4999 5000]\n",
    "    # [   0    1    2 ... 9997 9998 9999] [5001 5002 5003 ... 6665 6666 6667]\n",
    "    # [   0    1    2 ... 9997 9998 9999] [6668 6669 6670 ... 8331 8332 8333]\n",
    "    # [   0    1    2 ... 8331 8332 8333] [8334 8335 8336 ... 9997 9998 9999]\n",
    "\n",
    "    X_train, X_test = X.values[train_index], X.values[test_index]\n",
    "    y_train, y_test = y.values[train_index], y.values[test_index]\n",
    "\n",
    "    clf.fit(X_train, y_train)\n",
    "    pred = clf.predict(X_test)\n",
    "    # accur = accuracy_score(y_test, pred)"
   ]
  },
  {
   "cell_type": "markdown",
   "id": "03613022",
   "metadata": {},
   "source": []
  },
  {
   "cell_type": "markdown",
   "id": "d9e0624a",
   "metadata": {},
   "source": [
    "https://scikit-learn.org/stable/modules/cross_validation.html#cross-validation"
   ]
  },
  {
   "cell_type": "code",
   "execution_count": null,
   "id": "0765c9c5",
   "metadata": {},
   "outputs": [],
   "source": [
    "from sklearn.model_selection import cross_val_score\n",
    "\n",
    "\n",
    "cross_val_score(clf, X, y)"
   ]
  },
  {
   "cell_type": "markdown",
   "id": "a5ba578e",
   "metadata": {},
   "source": []
  },
  {
   "cell_type": "code",
   "execution_count": null,
   "id": "b2e644c8",
   "metadata": {},
   "outputs": [],
   "source": [
    "from sklearn.model_selection import GridSearchCV\n",
    "\n",
    "\n",
    "# Candidates: These will be evaluated\n",
    "params = {\n",
    "    'n_estimators':[100],\n",
    "    'max_depth' : [6, 8, 10, 12],\n",
    "    'min_samples_leaf' : [8, 12, 18 ],\n",
    "    'min_samples_split' : [8, 16, 20]\n",
    "}\n",
    "rf_clf = RandomForestClassifier(random_state=0, n_jobs=-1)\n",
    "grid_cv = GridSearchCV(rf_clf, param_grid=params , cv=2, n_jobs=-1)\n",
    "grid_cv.fit(X_train , y_train)\n",
    "\n",
    "# 최적 파라미터 평가 결과 사용\n",
    "best_params = grid_cv.best_params_\n",
    "print(f'Best Hyperparams: {best_params}')\n",
    "print(f'Best Accuracy: {grid_cv.best_score_}')\n",
    "'''\n",
    "Best Hyperparams: {'max_depth': 10, 'min_samples_leaf': 8, 'min_samples_split': 8, 'n_estimators': 100}\n",
    "Best Accuracy: 0.9172\n",
    "'''\n",
    "\n",
    "rf_clf = RandomForestClassifier(**best_params)\n",
    "rf_clf.fit(X, y)\n",
    "pred = rf_clf.predict(X_test)\n",
    "\n",
    "\n",
    "# 특성값들의 중요도\n",
    "ftr_importances_values = rf_clf.feature_importances_\n",
    "ftr_importances = pd.Series(ftr_importances_values, index=X_train.columns)"
   ]
  },
  {
   "cell_type": "markdown",
   "id": "1a857bf3",
   "metadata": {},
   "source": [
    "### Metrics"
   ]
  },
  {
   "cell_type": "code",
   "execution_count": null,
   "id": "4df30e24",
   "metadata": {},
   "outputs": [],
   "source": [
    "from sklearn.metrics import confusion_matrix, accuracy_score\n",
    "from sklearn.metrics import precision_score, recall_score\n",
    "from sklearn.metrics import f1_score, roc_auc_score\n",
    "\n",
    "\n",
    "## `y` and `pred` is known: y and h_hat\n",
    "confusion = confusion_matrix(y_test, pred)\n",
    "accuracy = accuracy_score(y_test, pred)\n",
    "precision = precision_score(y_test, pred)\n",
    "recall = recall_score(y_test, pred)\n",
    "f1 = f1_score(y_test, pred)\n",
    "\n",
    "# ROC-AUC: https://scikit-learn.org/stable/modules/generated/sklearn.metrics.roc_auc_score.html\n",
    "roc_auc = roc_auc_score(y_test, y_score)"
   ]
  },
  {
   "cell_type": "markdown",
   "id": "c8ff0e4e",
   "metadata": {},
   "source": [
    "# Ensemble"
   ]
  },
  {
   "cell_type": "code",
   "execution_count": null,
   "id": "d337eeae",
   "metadata": {},
   "outputs": [],
   "source": [
    "import numpy as np\n",
    "from sklearn.neighbors import KNeighborsClassifier\n",
    "from sklearn.ensemble import RandomForestClassifier\n",
    "from sklearn.ensemble import AdaBoostClassifier\n",
    "from sklearn.tree import DecisionTreeClassifier\n",
    "from sklearn.metrics import accuracy_score\n",
    "\n",
    "\n",
    "X_train, X_test, y_train, y_test\n",
    "\n",
    "knn_clf = KNeighborsClassifier(n_neighbors=4)\n",
    "rf_clf = RandomForestClassifier(n_estimators=100, random_state=0)\n",
    "dt_clf = DecisionTreeClassifier()\n",
    "ada_clf = AdaBoostClassifier(n_estimators=100)\n",
    "\n",
    "knn_clf.fit(X_train, y_train)\n",
    "rf_clf.fit(X_train, y_train)\n",
    "dt_clf.fit(X_train, y_train)\n",
    "ada_clf.fit(X_train, y_train)\n",
    "\n",
    "knn_pred = knn_clf.predict(X_test)\n",
    "rf_pred = rf_clf.predict(X_test)\n",
    "dt_pred = dt_clf.predict(X_test)\n",
    "ada_pred = ada_clf.predict(X_test)\n",
    "\n",
    "accuracy_score(y_test, knn_pred)\n",
    "accuracy_score(y_test, rf_pred)\n",
    "accuracy_score(y_test, dt_pred)\n",
    "accuracy_score(y_test, ada_pred)"
   ]
  },
  {
   "cell_type": "code",
   "execution_count": null,
   "id": "3cd9d75c",
   "metadata": {},
   "outputs": [],
   "source": [
    "from sklearn.linear_model import LogisticRegression\n",
    "\n",
    "\n",
    "# Stacking Ensemble\n",
    "pred = np.array(knn_pred, rf_pred, dt_pred, ada_pred)\n",
    "pred = np.transpose(pred)\n",
    "# (114, 4): 4개 모델의 pred값 병합\n",
    "\n",
    "lr_clf = LogisticRegression()\n",
    "lr_clf.fit(pred, y_test)\n",
    "lr_clf_pred = lr_clf.predict(pred)\n",
    "accuracy_score(y_test, lr_clf_pred)"
   ]
  },
  {
   "cell_type": "markdown",
   "id": "0c622646",
   "metadata": {},
   "source": [
    "### Oversampling and Undersampling"
   ]
  },
  {
   "cell_type": "code",
   "execution_count": null,
   "id": "53fe0cb2",
   "metadata": {},
   "outputs": [],
   "source": [
    "from imblearn.over_sampling import SMOTE\n",
    "\n",
    "\n",
    "smote = SMOTE()\n",
    "X_over, y_over =  smote.fit_resample(X, y)"
   ]
  }
 ],
 "metadata": {
  "language_info": {
   "name": "python"
  }
 },
 "nbformat": 4,
 "nbformat_minor": 5
}
