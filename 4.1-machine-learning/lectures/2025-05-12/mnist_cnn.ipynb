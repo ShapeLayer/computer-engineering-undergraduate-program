{
 "cells": [
  {
   "cell_type": "code",
   "execution_count": 1,
   "id": "3570e3fe",
   "metadata": {},
   "outputs": [],
   "source": [
    "import torch\n",
    "import torchvision.datasets as dsets\n",
    "import torchvision.transforms as transforms\n",
    "import random"
   ]
  },
  {
   "cell_type": "code",
   "execution_count": 2,
   "id": "577631ea",
   "metadata": {},
   "outputs": [],
   "source": [
    "random.seed(0)\n",
    "torch.manual_seed(0)\n",
    "\n",
    "device = torch.device(\"mps\")\n",
    "\n",
    "learning_rate = .001\n",
    "training_epochs = 15\n",
    "batch_size = 100"
   ]
  },
  {
   "cell_type": "code",
   "execution_count": 16,
   "id": "b914a176",
   "metadata": {},
   "outputs": [
    {
     "name": "stderr",
     "output_type": "stream",
     "text": [
      "100%|██████████| 26.4M/26.4M [00:06<00:00, 4.36MB/s]\n",
      "100%|██████████| 29.5k/29.5k [00:00<00:00, 84.4kB/s]\n",
      "100%|██████████| 4.42M/4.42M [00:07<00:00, 592kB/s] \n",
      "100%|██████████| 5.15k/5.15k [00:00<00:00, 7.12MB/s]\n"
     ]
    }
   ],
   "source": [
    "mnist_train = dsets.FashionMNIST(root='dset/', train=True, transform=transforms.ToTensor(), download=True)\n",
    "mnist_test = dsets.FashionMNIST(root='dset/', train=False, transform=transforms.ToTensor(), download=True)\n",
    "\n",
    "data_loader = torch.utils.data.DataLoader(dataset=mnist_train, batch_size=batch_size, shuffle=True, drop_last=True)"
   ]
  },
  {
   "cell_type": "code",
   "execution_count": null,
   "id": "ce47ff97",
   "metadata": {},
   "outputs": [],
   "source": [
    "class CNN(torch.nn.Module):\n",
    "    def __init__(self):\n",
    "        super(CNN, self).__init__()\n",
    "\n",
    "        self.layer1 = torch.nn.Sequential(\n",
    "            torch.nn.Conv2d(1, 32, kernel_size=3, stride=1, padding=1),\n",
    "            torch.nn.ReLU(),\n",
    "            torch.nn.MaxPool2d(kernel_size=2, stride=2)\n",
    "        )\n",
    "        # L1 Image size = (?, 1, 28, 28)\n",
    "        # L1 Conv       = (?, 32, 28, 28)\n",
    "        # L1 Pool       = (?, 32, 14, 14)\n",
    "        self.layer2 = torch.nn.Sequential(\n",
    "            torch.nn.Conv2d(32, 64, kernel_size=3, stride=1, padding=1),\n",
    "            torch.nn.ReLU(),\n",
    "            torch.nn.MaxPool2d(kernel_size=2, stride=2)\n",
    "        )\n",
    "        # L2 Conv       = (?, 64, 14, 14)\n",
    "        # L2 Pool       = (?, 64, 7, 7)\n",
    "        # L2 Output     = (?, 64, 7, 7)\n",
    "        self.layer3 = torch.nn.Sequential(\n",
    "            torch.nn.Conv2d(64, 64, kernel_size=3, stride=1, padding=1),\n",
    "            torch.nn.ReLU(),\n",
    "            torch.nn.MaxPool2d(kernel_size=3, stride=1)\n",
    "        )\n",
    "        # L3 Conv       = (?, 64, 7, 7)\n",
    "        # L3 Pool       = (?, 64, 5, 5)\n",
    "        # L3 Output     = (?, 64, 5, 5)\n",
    "        self.fc = torch.nn.Linear(3 * 3 * 64, 10, bias=True)\n",
    "        # FC            = (?, 10)\n",
    "        torch.nn.init.xavier_uniform_(self.fc.weight)\n",
    "\n",
    "    def forward(self, x):\n",
    "        out = self.layer1(x)\n",
    "        out = self.layer2(out)\n",
    "        out = self.layer3(out)\n",
    "        out = out.view(out.size(0), -1)\n",
    "        out = self.fc(out)\n",
    "        return out"
   ]
  },
  {
   "cell_type": "code",
   "execution_count": 18,
   "id": "5919ae07",
   "metadata": {},
   "outputs": [],
   "source": [
    "model = CNN().to(device)"
   ]
  },
  {
   "cell_type": "code",
   "execution_count": 19,
   "id": "7c0135f3",
   "metadata": {},
   "outputs": [],
   "source": [
    "criterion = torch.nn.CrossEntropyLoss().to(device)\n",
    "optimizer = torch.optim.Adam(model.parameters(), lr=learning_rate)"
   ]
  },
  {
   "cell_type": "code",
   "execution_count": 20,
   "id": "8b6fe471",
   "metadata": {},
   "outputs": [
    {
     "name": "stdout",
     "output_type": "stream",
     "text": [
      "Learning started. It takes sometime.\n",
      "[Epoch:    1] cost = 0.540456474\n",
      "[Epoch:    2] cost = 0.338510036\n",
      "[Epoch:    3] cost = 0.293289214\n",
      "[Epoch:    4] cost = 0.266239434\n",
      "[Epoch:    5] cost = 0.247671545\n",
      "[Epoch:    6] cost = 0.227959499\n",
      "[Epoch:    7] cost = 0.213977009\n",
      "[Epoch:    8] cost = 0.201440439\n",
      "[Epoch:    9] cost = 0.190190554\n",
      "[Epoch:   10] cost = 0.175933644\n",
      "[Epoch:   11] cost = 0.167948306\n",
      "[Epoch:   12] cost = 0.159854844\n",
      "[Epoch:   13] cost = 0.149623096\n",
      "[Epoch:   14] cost = 0.138035133\n",
      "[Epoch:   15] cost = 0.132255346\n",
      "Learning Finished!\n"
     ]
    }
   ],
   "source": [
    "total_batch = len(data_loader)\n",
    "print('Learning started. It takes sometime.')\n",
    "for epoch in range(training_epochs):\n",
    "    avg_cost = 0\n",
    "\n",
    "    for X, Y in data_loader:\n",
    "        X = X.to(device)\n",
    "        Y = Y.to(device)\n",
    "\n",
    "        optimizer.zero_grad()\n",
    "        hypothesis = model(X)\n",
    "        cost = criterion(hypothesis, Y)\n",
    "        cost.backward()\n",
    "        optimizer.step()\n",
    "\n",
    "        avg_cost += cost / total_batch\n",
    "\n",
    "    print('[Epoch: {:>4}] cost = {:>.9}'.format(epoch + 1, avg_cost))\n",
    "\n",
    "print('Learning Finished!')"
   ]
  },
  {
   "cell_type": "code",
   "execution_count": 21,
   "id": "e4d94ceb",
   "metadata": {},
   "outputs": [
    {
     "name": "stdout",
     "output_type": "stream",
     "text": [
      "Accuracy:  0.9606666666666667\n"
     ]
    }
   ],
   "source": [
    "accuracy = 0\n",
    "with torch.no_grad():\n",
    "    for X_test, Y_test in data_loader:\n",
    "        X_test = X_test.to(device)\n",
    "        Y_test = Y_test.to(device)\n",
    "        prediction = model(X_test)\n",
    "        correct_prediction = torch.argmax(prediction, 1) == Y_test\n",
    "        accuracy += correct_prediction.float().sum()\n",
    "    accuracy = accuracy.item() / len(mnist_train)\n",
    "print('Accuracy: ', accuracy)"
   ]
  },
  {
   "cell_type": "code",
   "execution_count": null,
   "id": "39d05156",
   "metadata": {},
   "outputs": [],
   "source": []
  }
 ],
 "metadata": {
  "kernelspec": {
   "display_name": "ml-lecture",
   "language": "python",
   "name": "python3"
  },
  "language_info": {
   "codemirror_mode": {
    "name": "ipython",
    "version": 3
   },
   "file_extension": ".py",
   "mimetype": "text/x-python",
   "name": "python",
   "nbconvert_exporter": "python",
   "pygments_lexer": "ipython3",
   "version": "3.13.2"
  }
 },
 "nbformat": 4,
 "nbformat_minor": 5
}
