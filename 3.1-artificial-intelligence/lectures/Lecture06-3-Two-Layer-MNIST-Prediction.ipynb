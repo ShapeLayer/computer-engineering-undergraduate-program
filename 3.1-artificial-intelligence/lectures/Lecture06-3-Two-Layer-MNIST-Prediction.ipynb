{
 "cells": [
  {
   "cell_type": "markdown",
   "metadata": {},
   "source": [
    "# Two Layer 네트워크 학습"
   ]
  },
  {
   "cell_type": "code",
   "execution_count": 1,
   "metadata": {},
   "outputs": [],
   "source": [
    "import numpy as np"
   ]
  },
  {
   "cell_type": "code",
   "execution_count": 2,
   "metadata": {},
   "outputs": [],
   "source": [
    "def sigmoid(x):\n",
    "    return 1 / (1 + np.exp(-x))\n",
    "\n",
    "def softmax(x):\n",
    "    c = np.max(x)\n",
    "    exp_x = np.exp(x - c)\n",
    "    sum_exp_x = np.sum(exp_x)\n",
    "    y = exp_x / sum_exp_x\n",
    "    return y\n",
    "\n",
    "def cross_entropy_error(y, t):\n",
    "    if y.ndim == 1:\n",
    "        y = y.reshape(1, y.size)\n",
    "        t = t.reshape(1, t.size)\n",
    "    if y.size == t.size:\n",
    "        t = t.argmax(axis=1)\n",
    "    batch = y.shape[0]\n",
    "    return -np.sum(np.log(y[np.arange(batch), t] + 1e-7) / batch)\n",
    "cee = cross_entropy_error\n",
    "\n",
    "def numerical_gradient(f, x):\n",
    "    h = 1e-4\n",
    "    gradient = np.zeros_like(x)\n",
    "    iter = np.nditer(x, flags=['multi_index'], op_flags=['readwrite'])\n",
    "    while not iter.finished:\n",
    "        index = iter.multi_index\n",
    "        each = x[index]\n",
    "        \n",
    "        x[index] = float(each) + h\n",
    "        f_xh_1 = f(x)\n",
    "\n",
    "        x[index] = float(each) - h\n",
    "        f_xh_2 = f(x)\n",
    "\n",
    "        gradient = (f_xh_1 - f_xh_2) / (2 * h)\n",
    "\n",
    "        x[index] = each\n",
    "        iter.iternext()\n",
    "    return gradient\n",
    "numgrad = numerical_gradient"
   ]
  },
  {
   "cell_type": "code",
   "execution_count": 3,
   "metadata": {},
   "outputs": [],
   "source": [
    "class TwoLayerNet:\n",
    "    def __init__(self, input_size, hidden_size, output_size, weight_init_std=.01):\n",
    "        self.params = {}\n",
    "        self.params['W1'] = weight_init_std * np.random.randn(input_size, hidden_size)\n",
    "        self.params['b1'] = np.zeros(hidden_size)\n",
    "        self.params['W2'] = weight_init_std * np.random.randn(hidden_size, output_size)\n",
    "        self.params['b2'] = np.zeros(output_size)\n",
    "    \n",
    "    def predict(self, x):\n",
    "        W1, W2 = self.params['W1'], self.params['W2']\n",
    "        b1, b2 = self.params['b1'], self.params['b2']\n",
    "\n",
    "        a1 = np.dot(x, W1) + b1\n",
    "        z1 = sigmoid(a1)\n",
    "\n",
    "        a2 = np.dot(z1, W2) + b2\n",
    "        z2 = softmax(a2)\n",
    "\n",
    "        y = z2\n",
    "        return y\n",
    "\n",
    "    def loss(self, x, t):\n",
    "        y = self.predict(x)\n",
    "        return cross_entropy_error(y, t)\n",
    "    \n",
    "    def accuracy(self, x, t):\n",
    "        y = self.prediuct(x)\n",
    "        y = np.argmax(y, axis=1)\n",
    "        t = np.argmax(t, axis=1)\n",
    "        accuracy = np.sum(y == t) / float(x.shape[0])\n",
    "        return accuracy\n",
    "    \n",
    "    def numerical_gradient(self, x, t):\n",
    "        def loss(_W):\n",
    "            return self.loss(x, t)\n",
    "        gradients = {}\n",
    "        gradients['W1'] = numerical_gradient(loss, self.params['W1'])\n",
    "        gradients['b1'] = numerical_gradient(loss, self.params['b1'])\n",
    "        gradients['W2'] = numerical_gradient(loss, self.params['W2'])\n",
    "        gradients['b2'] = numerical_gradient(loss, self.params['b2'])\n",
    "        return gradients"
   ]
  },
  {
   "cell_type": "markdown",
   "metadata": {},
   "source": [
    "## 학습"
   ]
  },
  {
   "cell_type": "code",
   "execution_count": 4,
   "metadata": {},
   "outputs": [],
   "source": [
    "import time\n",
    "import matplotlib.pyplot as plt\n",
    "from tensorflow.keras.datasets import mnist\n",
    "from sklearn.preprocessing import MinMaxScaler"
   ]
  },
  {
   "cell_type": "code",
   "execution_count": 5,
   "metadata": {},
   "outputs": [],
   "source": [
    "def convert_one_hot(arr):\n",
    "    unique, inverse = np.unique(arr, return_inverse=True)\n",
    "    onehot = np.eye(unique.shape[0])[inverse]\n",
    "    return onehot"
   ]
  },
  {
   "cell_type": "code",
   "execution_count": 6,
   "metadata": {},
   "outputs": [],
   "source": [
    "(X_train, y_train), (X_test, y_test) = mnist.load_data()\n",
    "\n",
    "scaler = MinMaxScaler(feature_range=(0, 1))\n",
    "X_train = (X_train / 255.0).reshape(60_000, 784)\n",
    "X_test = (X_test / 255.0).reshape(10_000, 784)\n",
    "y_train = convert_one_hot(y_train)\n",
    "y_test = convert_one_hot(y_test)\n"
   ]
  },
  {
   "cell_type": "code",
   "execution_count": 7,
   "metadata": {},
   "outputs": [
    {
     "name": "stdout",
     "output_type": "stream",
     "text": [
      "loss: 6.9080029203498325\n",
      "loss: 6.905910192564317\n",
      "loss: 6.905012040393604\n",
      "loss: 6.907558508841199\n",
      "loss: 6.908091070398621\n",
      "loss: 6.901338127239348\n",
      "loss: 6.904252583212801\n",
      "loss: 6.909144802000959\n",
      "loss: 6.907457732336448\n",
      "loss: 6.908834994417812\n",
      "Training done in 564.0043697357178.\n"
     ]
    }
   ],
   "source": [
    "network = TwoLayerNet(input_size=784, hidden_size=50, output_size=10)\n",
    "\n",
    "epochs = 10\n",
    "train_size = X_train.shape[0]\n",
    "batch_size = 100\n",
    "learning_rate = .1\n",
    "\n",
    "train_losses = []\n",
    "\n",
    "starts_at = time.time()\n",
    "for i in range(epochs):\n",
    "    index_selected = np.random.choice(train_size, batch_size)\n",
    "    each_X = X_train[index_selected]\n",
    "    each_y = y_train[index_selected]\n",
    "\n",
    "    gradient = network.numerical_gradient(each_X, each_y)\n",
    "\n",
    "    for each_param in ['W1', 'b1', 'W2', 'b2']:\n",
    "        network.params[each_param] -= learning_rate * gradient[each_param]\n",
    "    \n",
    "    loss = network.loss(each_X, each_y)\n",
    "    train_losses.append(loss)\n",
    "\n",
    "    print(f'loss: {loss}')\n",
    "\n",
    "ends_at = time.time()\n",
    "\n",
    "print(f'Training done in {ends_at - starts_at}.')"
   ]
  },
  {
   "cell_type": "code",
   "execution_count": 8,
   "metadata": {},
   "outputs": [
    {
     "name": "stdout",
     "output_type": "stream",
     "text": [
      "[0.10112799 0.10027828 0.09452242 0.10144697 0.1011619  0.09586833\n",
      " 0.09910983 0.10254669 0.10459624 0.09934134] 8\n"
     ]
    },
    {
     "data": {
      "image/png": "[encoded data removed]",
      "text/plain": [
       "<Figure size 640x480 with 1 Axes>"
      ]
     },
     "metadata": {},
     "output_type": "display_data"
    }
   ],
   "source": [
    "index = 999\n",
    "image = X_test[index].reshape(28, 28)\n",
    "plt.imshow(image)\n",
    "\n",
    "y = network.predict(X_test[index])\n",
    "pred = np.argmax(y)\n",
    "print(y, pred)"
   ]
  }
 ],
 "metadata": {
  "kernelspec": {
   "display_name": "ai-lecture-3.10",
   "language": "python",
   "name": "python3"
  },
  "language_info": {
   "codemirror_mode": {
    "name": "ipython",
    "version": 3
   },
   "file_extension": ".py",
   "mimetype": "text/x-python",
   "name": "python",
   "nbconvert_exporter": "python",
   "pygments_lexer": "ipython3",
   "version": "3.10.14"
  }
 },
 "nbformat": 4,
 "nbformat_minor": 2
}
