{
 "cells": [
  {
   "cell_type": "markdown",
   "id": "37c5d1cc",
   "metadata": {},
   "source": [
    "# CIFAR-10 영상 분류하기"
   ]
  },
  {
   "cell_type": "code",
   "execution_count": 1,
   "id": "05876b4a-896c-4aa1-bdfb-2c5aac87b50b",
   "metadata": {},
   "outputs": [],
   "source": [
    "import numpy as np\n",
    "import matplotlib.pyplot as plt\n",
    "import tensorflow as tf\n",
    "from tensorflow import keras\n",
    "from tensorflow.keras import Sequential\n",
    "from tensorflow.keras.layers import *"
   ]
  },
  {
   "cell_type": "code",
   "execution_count": 2,
   "id": "bb76d113-70b9-4dff-a2a5-f88f76e66a5c",
   "metadata": {},
   "outputs": [],
   "source": [
    "(X_train, y_train), (X_test, y_test) = keras.datasets.cifar10.load_data()"
   ]
  },
  {
   "cell_type": "code",
   "execution_count": 3,
   "id": "5a1f9359-a7c3-43ba-8b3f-5ce9ccbeddb6",
   "metadata": {},
   "outputs": [
    {
     "name": "stdout",
     "output_type": "stream",
     "text": [
      "(50000, 32, 32, 3) (50000, 1)\n",
      "(10000, 32, 32, 3) (10000, 1)\n"
     ]
    }
   ],
   "source": [
    "print(X_train.shape, y_train.shape)\n",
    "print(X_test.shape, y_test.shape)"
   ]
  },
  {
   "cell_type": "markdown",
   "id": "6d09a37f-365c-4eea-bbc0-d9d6d940e1dc",
   "metadata": {},
   "source": [
    "## 모델 구축"
   ]
  },
  {
   "cell_type": "code",
   "execution_count": 4,
   "id": "2d9633fa-b98f-44ef-b261-7ee6f28ca4b0",
   "metadata": {},
   "outputs": [],
   "source": [
    "model = Sequential()"
   ]
  },
  {
   "cell_type": "markdown",
   "id": "51d214eb-8da3-4426-a379-294052c991c9",
   "metadata": {},
   "source": [
    "**Convolution2D**\n",
    "\n",
    "$32 \\times 32 \\times 3 \\Rightarrow 30 \\times 30 \\times 64$\n",
    "\n",
    "Filter\n",
    "* $(3 \\times 3 \\times 3) \\times 64$\n",
    "\n",
    "Parameters\n",
    "* $\\#W = 27 \\times 64$\n",
    "* $\\#b = 64$"
   ]
  },
  {
   "cell_type": "code",
   "execution_count": 5,
   "id": "e902ab54-99de-4f43-86c7-c6e3a781f511",
   "metadata": {},
   "outputs": [
    {
     "name": "stderr",
     "output_type": "stream",
     "text": [
      "/opt/anaconda3/envs/ai-lecture-3.10/lib/python3.10/site-packages/keras/src/layers/convolutional/base_conv.py:107: UserWarning: Do not pass an `input_shape`/`input_dim` argument to a layer. When using Sequential models, prefer using an `Input(shape)` object as the first layer in the model instead.\n",
      "  super().__init__(activity_regularizer=activity_regularizer, **kwargs)\n",
      "2024-06-05 16:15:22.582791: I metal_plugin/src/device/metal_device.cc:1154] Metal device set to: Apple M1\n",
      "2024-06-05 16:15:22.582810: I metal_plugin/src/device/metal_device.cc:296] systemMemory: 16.00 GB\n",
      "2024-06-05 16:15:22.582815: I metal_plugin/src/device/metal_device.cc:313] maxCacheSize: 5.33 GB\n",
      "2024-06-05 16:15:22.582830: I tensorflow/core/common_runtime/pluggable_device/pluggable_device_factory.cc:305] Could not identify NUMA node of platform GPU ID 0, defaulting to 0. Your kernel may not have been built with NUMA support.\n",
      "2024-06-05 16:15:22.582841: I tensorflow/core/common_runtime/pluggable_device/pluggable_device_factory.cc:271] Created TensorFlow device (/job:localhost/replica:0/task:0/device:GPU:0 with 0 MB memory) -> physical PluggableDevice (device: 0, name: METAL, pci bus id: <undefined>)\n"
     ]
    }
   ],
   "source": [
    "model.add(Conv2D(64, activation='relu', kernel_size=(3, 3), input_shape=(32, 32, 3)))"
   ]
  },
  {
   "cell_type": "markdown",
   "id": "ad7a683e-88d3-41b2-9ca0-9be0db6bb750",
   "metadata": {},
   "source": [
    "**MaxPooling**\n",
    "\n",
    "$30 \\times 30 \\times 64 \\Rightarrow 15 \\times 15 \\times 64$"
   ]
  },
  {
   "cell_type": "code",
   "execution_count": 6,
   "id": "a89a1399-83c4-4218-ad7d-fc4009e03a52",
   "metadata": {},
   "outputs": [],
   "source": [
    "model.add(MaxPooling2D(pool_size=(2, 2)))"
   ]
  },
  {
   "cell_type": "markdown",
   "id": "9effc29a-d71b-4c82-a448-51f6ed01476a",
   "metadata": {},
   "source": [
    "**Convolution 2D**\n",
    "\n",
    "$15 \\times 15 \\times 64 \\Rightarrow 13 \\times 13 \\times 32$\n",
    "\n",
    "Filter\n",
    "* $(3 \\times 3 \\times 64) \\times 32$\n",
    "\n",
    "Parameters\n",
    "* $\\#W = 3 \\times 3 \\times 64 \\times 32 = 18\\,432$\n",
    "* $\\#b = 32$"
   ]
  },
  {
   "cell_type": "code",
   "execution_count": 7,
   "id": "ef680cea-7ad0-4977-86dc-5c8eb0b89ea6",
   "metadata": {},
   "outputs": [],
   "source": [
    "model.add(Conv2D(32, activation='relu', kernel_size=(3, 3)))"
   ]
  },
  {
   "cell_type": "markdown",
   "id": "ba3b944f-dbfe-4cc2-8038-ad8bb8d7c4de",
   "metadata": {},
   "source": [
    "**Flatten**\n",
    "\n",
    "$13 \\times 13 \\times 32 \\Rightarrow 5408$"
   ]
  },
  {
   "cell_type": "code",
   "execution_count": 8,
   "id": "d9344a40-53fd-42b5-a4dd-1696cc85bb0d",
   "metadata": {},
   "outputs": [],
   "source": [
    "model.add(Flatten())"
   ]
  },
  {
   "cell_type": "markdown",
   "id": "7b6136c0-c8d4-46a4-ad4e-e880dcc0ddcb",
   "metadata": {},
   "source": [
    "**Dense (ReLU)**\n",
    "\n",
    "$5208 \\Rightarrow 80$\n",
    "\n",
    "Parameters\n",
    "* $\\#W=5408 \\times 80 = 432\\,640$\n",
    "* $\\#b=80$"
   ]
  },
  {
   "cell_type": "code",
   "execution_count": 9,
   "id": "5f350a05-a2cb-4a81-b154-b1f415052445",
   "metadata": {},
   "outputs": [],
   "source": [
    "model.add(Dense(80, activation='relu'))"
   ]
  },
  {
   "cell_type": "markdown",
   "id": "04ab4123-4c63-4c91-ad88-4b57c0fc1774",
   "metadata": {},
   "source": [
    "**Dense (Softmax)**\n",
    "\n",
    "$80 \\Rightarrow 10$\n",
    "\n",
    "Parameters\n",
    "* $\\#W=80 \\times 10 = 800$\n",
    "* $\\#b=10$"
   ]
  },
  {
   "cell_type": "code",
   "execution_count": 10,
   "id": "9a766aa2-5d6c-482f-a026-f66ec1e64e2b",
   "metadata": {},
   "outputs": [],
   "source": [
    "model.add(Dense(10, activation='softmax'))"
   ]
  },
  {
   "cell_type": "code",
   "execution_count": 11,
   "id": "bf34292e",
   "metadata": {},
   "outputs": [
    {
     "data": {
      "text/html": [
       "<pre style=\"white-space:pre;overflow-x:auto;line-height:normal;font-family:Menlo,'DejaVu Sans Mono',consolas,'Courier New',monospace\"><span style=\"font-weight: bold\">Model: \"sequential\"</span>\n",
       "</pre>\n"
      ],
      "text/plain": [
       "\u001b[1mModel: \"sequential\"\u001b[0m\n"
      ]
     },
     "metadata": {},
     "output_type": "display_data"
    },
    {
     "data": {
      "text/html": [
       "<pre style=\"white-space:pre;overflow-x:auto;line-height:normal;font-family:Menlo,'DejaVu Sans Mono',consolas,'Courier New',monospace\">┏━━━━━━━━━━━━━━━━━━━━━━━━━━━━━━━━━┳━━━━━━━━━━━━━━━━━━━━━━━━┳━━━━━━━━━━━━━━━┓\n",
       "┃<span style=\"font-weight: bold\"> Layer (type)                    </span>┃<span style=\"font-weight: bold\"> Output Shape           </span>┃<span style=\"font-weight: bold\">       Param # </span>┃\n",
       "┡━━━━━━━━━━━━━━━━━━━━━━━━━━━━━━━━━╇━━━━━━━━━━━━━━━━━━━━━━━━╇━━━━━━━━━━━━━━━┩\n",
       "│ conv2d (<span style=\"color: #0087ff; text-decoration-color: #0087ff\">Conv2D</span>)                 │ (<span style=\"color: #00d7ff; text-decoration-color: #00d7ff\">None</span>, <span style=\"color: #00af00; text-decoration-color: #00af00\">30</span>, <span style=\"color: #00af00; text-decoration-color: #00af00\">30</span>, <span style=\"color: #00af00; text-decoration-color: #00af00\">64</span>)     │         <span style=\"color: #00af00; text-decoration-color: #00af00\">1,792</span> │\n",
       "├─────────────────────────────────┼────────────────────────┼───────────────┤\n",
       "│ max_pooling2d (<span style=\"color: #0087ff; text-decoration-color: #0087ff\">MaxPooling2D</span>)    │ (<span style=\"color: #00d7ff; text-decoration-color: #00d7ff\">None</span>, <span style=\"color: #00af00; text-decoration-color: #00af00\">15</span>, <span style=\"color: #00af00; text-decoration-color: #00af00\">15</span>, <span style=\"color: #00af00; text-decoration-color: #00af00\">64</span>)     │             <span style=\"color: #00af00; text-decoration-color: #00af00\">0</span> │\n",
       "├─────────────────────────────────┼────────────────────────┼───────────────┤\n",
       "│ conv2d_1 (<span style=\"color: #0087ff; text-decoration-color: #0087ff\">Conv2D</span>)               │ (<span style=\"color: #00d7ff; text-decoration-color: #00d7ff\">None</span>, <span style=\"color: #00af00; text-decoration-color: #00af00\">13</span>, <span style=\"color: #00af00; text-decoration-color: #00af00\">13</span>, <span style=\"color: #00af00; text-decoration-color: #00af00\">32</span>)     │        <span style=\"color: #00af00; text-decoration-color: #00af00\">18,464</span> │\n",
       "├─────────────────────────────────┼────────────────────────┼───────────────┤\n",
       "│ flatten (<span style=\"color: #0087ff; text-decoration-color: #0087ff\">Flatten</span>)               │ (<span style=\"color: #00d7ff; text-decoration-color: #00d7ff\">None</span>, <span style=\"color: #00af00; text-decoration-color: #00af00\">5408</span>)           │             <span style=\"color: #00af00; text-decoration-color: #00af00\">0</span> │\n",
       "├─────────────────────────────────┼────────────────────────┼───────────────┤\n",
       "│ dense (<span style=\"color: #0087ff; text-decoration-color: #0087ff\">Dense</span>)                   │ (<span style=\"color: #00d7ff; text-decoration-color: #00d7ff\">None</span>, <span style=\"color: #00af00; text-decoration-color: #00af00\">80</span>)             │       <span style=\"color: #00af00; text-decoration-color: #00af00\">432,720</span> │\n",
       "├─────────────────────────────────┼────────────────────────┼───────────────┤\n",
       "│ dense_1 (<span style=\"color: #0087ff; text-decoration-color: #0087ff\">Dense</span>)                 │ (<span style=\"color: #00d7ff; text-decoration-color: #00d7ff\">None</span>, <span style=\"color: #00af00; text-decoration-color: #00af00\">10</span>)             │           <span style=\"color: #00af00; text-decoration-color: #00af00\">810</span> │\n",
       "└─────────────────────────────────┴────────────────────────┴───────────────┘\n",
       "</pre>\n"
      ],
      "text/plain": [
       "┏━━━━━━━━━━━━━━━━━━━━━━━━━━━━━━━━━┳━━━━━━━━━━━━━━━━━━━━━━━━┳━━━━━━━━━━━━━━━┓\n",
       "┃\u001b[1m \u001b[0m\u001b[1mLayer (type)                   \u001b[0m\u001b[1m \u001b[0m┃\u001b[1m \u001b[0m\u001b[1mOutput Shape          \u001b[0m\u001b[1m \u001b[0m┃\u001b[1m \u001b[0m\u001b[1m      Param #\u001b[0m\u001b[1m \u001b[0m┃\n",
       "┡━━━━━━━━━━━━━━━━━━━━━━━━━━━━━━━━━╇━━━━━━━━━━━━━━━━━━━━━━━━╇━━━━━━━━━━━━━━━┩\n",
       "│ conv2d (\u001b[38;5;33mConv2D\u001b[0m)                 │ (\u001b[38;5;45mNone\u001b[0m, \u001b[38;5;34m30\u001b[0m, \u001b[38;5;34m30\u001b[0m, \u001b[38;5;34m64\u001b[0m)     │         \u001b[38;5;34m1,792\u001b[0m │\n",
       "├─────────────────────────────────┼────────────────────────┼───────────────┤\n",
       "│ max_pooling2d (\u001b[38;5;33mMaxPooling2D\u001b[0m)    │ (\u001b[38;5;45mNone\u001b[0m, \u001b[38;5;34m15\u001b[0m, \u001b[38;5;34m15\u001b[0m, \u001b[38;5;34m64\u001b[0m)     │             \u001b[38;5;34m0\u001b[0m │\n",
       "├─────────────────────────────────┼────────────────────────┼───────────────┤\n",
       "│ conv2d_1 (\u001b[38;5;33mConv2D\u001b[0m)               │ (\u001b[38;5;45mNone\u001b[0m, \u001b[38;5;34m13\u001b[0m, \u001b[38;5;34m13\u001b[0m, \u001b[38;5;34m32\u001b[0m)     │        \u001b[38;5;34m18,464\u001b[0m │\n",
       "├─────────────────────────────────┼────────────────────────┼───────────────┤\n",
       "│ flatten (\u001b[38;5;33mFlatten\u001b[0m)               │ (\u001b[38;5;45mNone\u001b[0m, \u001b[38;5;34m5408\u001b[0m)           │             \u001b[38;5;34m0\u001b[0m │\n",
       "├─────────────────────────────────┼────────────────────────┼───────────────┤\n",
       "│ dense (\u001b[38;5;33mDense\u001b[0m)                   │ (\u001b[38;5;45mNone\u001b[0m, \u001b[38;5;34m80\u001b[0m)             │       \u001b[38;5;34m432,720\u001b[0m │\n",
       "├─────────────────────────────────┼────────────────────────┼───────────────┤\n",
       "│ dense_1 (\u001b[38;5;33mDense\u001b[0m)                 │ (\u001b[38;5;45mNone\u001b[0m, \u001b[38;5;34m10\u001b[0m)             │           \u001b[38;5;34m810\u001b[0m │\n",
       "└─────────────────────────────────┴────────────────────────┴───────────────┘\n"
      ]
     },
     "metadata": {},
     "output_type": "display_data"
    },
    {
     "data": {
      "text/html": [
       "<pre style=\"white-space:pre;overflow-x:auto;line-height:normal;font-family:Menlo,'DejaVu Sans Mono',consolas,'Courier New',monospace\"><span style=\"font-weight: bold\"> Total params: </span><span style=\"color: #00af00; text-decoration-color: #00af00\">453,786</span> (1.73 MB)\n",
       "</pre>\n"
      ],
      "text/plain": [
       "\u001b[1m Total params: \u001b[0m\u001b[38;5;34m453,786\u001b[0m (1.73 MB)\n"
      ]
     },
     "metadata": {},
     "output_type": "display_data"
    },
    {
     "data": {
      "text/html": [
       "<pre style=\"white-space:pre;overflow-x:auto;line-height:normal;font-family:Menlo,'DejaVu Sans Mono',consolas,'Courier New',monospace\"><span style=\"font-weight: bold\"> Trainable params: </span><span style=\"color: #00af00; text-decoration-color: #00af00\">453,786</span> (1.73 MB)\n",
       "</pre>\n"
      ],
      "text/plain": [
       "\u001b[1m Trainable params: \u001b[0m\u001b[38;5;34m453,786\u001b[0m (1.73 MB)\n"
      ]
     },
     "metadata": {},
     "output_type": "display_data"
    },
    {
     "data": {
      "text/html": [
       "<pre style=\"white-space:pre;overflow-x:auto;line-height:normal;font-family:Menlo,'DejaVu Sans Mono',consolas,'Courier New',monospace\"><span style=\"font-weight: bold\"> Non-trainable params: </span><span style=\"color: #00af00; text-decoration-color: #00af00\">0</span> (0.00 B)\n",
       "</pre>\n"
      ],
      "text/plain": [
       "\u001b[1m Non-trainable params: \u001b[0m\u001b[38;5;34m0\u001b[0m (0.00 B)\n"
      ]
     },
     "metadata": {},
     "output_type": "display_data"
    }
   ],
   "source": [
    "model.summary()"
   ]
  },
  {
   "cell_type": "markdown",
   "id": "86a8e9c4-8701-4215-b36f-0d6e6effaaf2",
   "metadata": {},
   "source": [
    "### 모델 컴파일"
   ]
  },
  {
   "cell_type": "code",
   "execution_count": 12,
   "id": "fe9df1ee-ea3a-4d9d-86ee-8749801c2378",
   "metadata": {},
   "outputs": [
    {
     "name": "stdout",
     "output_type": "stream",
     "text": [
      "Epoch 1/100\n"
     ]
    },
    {
     "name": "stderr",
     "output_type": "stream",
     "text": [
      "2024-06-05 16:15:23.126615: I tensorflow/core/grappler/optimizers/custom_graph_optimizer_registry.cc:117] Plugin optimizer for device_type GPU is enabled.\n"
     ]
    },
    {
     "name": "stdout",
     "output_type": "stream",
     "text": [
      "\u001b[1m1094/1094\u001b[0m \u001b[32m━━━━━━━━━━━━━━━━━━━━\u001b[0m\u001b[37m\u001b[0m \u001b[1m18s\u001b[0m 15ms/step - accuracy: 0.1060 - loss: 3.1186 - val_accuracy: 0.1021 - val_loss: 2.3014\n",
      "Epoch 2/100\n",
      "\u001b[1m1094/1094\u001b[0m \u001b[32m━━━━━━━━━━━━━━━━━━━━\u001b[0m\u001b[37m\u001b[0m \u001b[1m17s\u001b[0m 15ms/step - accuracy: 0.1103 - loss: 2.2967 - val_accuracy: 0.1102 - val_loss: 2.3010\n",
      "Epoch 3/100\n",
      "\u001b[1m1094/1094\u001b[0m \u001b[32m━━━━━━━━━━━━━━━━━━━━\u001b[0m\u001b[37m\u001b[0m \u001b[1m18s\u001b[0m 16ms/step - accuracy: 0.1219 - loss: 2.2861 - val_accuracy: 0.1268 - val_loss: 2.2984\n",
      "Epoch 4/100\n",
      "\u001b[1m1094/1094\u001b[0m \u001b[32m━━━━━━━━━━━━━━━━━━━━\u001b[0m\u001b[37m\u001b[0m \u001b[1m15s\u001b[0m 14ms/step - accuracy: 0.1368 - loss: 2.2643 - val_accuracy: 0.2528 - val_loss: 2.0867\n",
      "Epoch 5/100\n",
      "\u001b[1m1094/1094\u001b[0m \u001b[32m━━━━━━━━━━━━━━━━━━━━\u001b[0m\u001b[37m\u001b[0m \u001b[1m17s\u001b[0m 15ms/step - accuracy: 0.2904 - loss: 1.9628 - val_accuracy: 0.3921 - val_loss: 1.6872\n",
      "Epoch 6/100\n",
      "\u001b[1m1094/1094\u001b[0m \u001b[32m━━━━━━━━━━━━━━━━━━━━\u001b[0m\u001b[37m\u001b[0m \u001b[1m15s\u001b[0m 14ms/step - accuracy: 0.4554 - loss: 1.5133 - val_accuracy: 0.4956 - val_loss: 1.4412\n",
      "Epoch 7/100\n",
      "\u001b[1m1094/1094\u001b[0m \u001b[32m━━━━━━━━━━━━━━━━━━━━\u001b[0m\u001b[37m\u001b[0m \u001b[1m15s\u001b[0m 14ms/step - accuracy: 0.5780 - loss: 1.1841 - val_accuracy: 0.5153 - val_loss: 1.4224\n",
      "Epoch 8/100\n",
      "\u001b[1m1094/1094\u001b[0m \u001b[32m━━━━━━━━━━━━━━━━━━━━\u001b[0m\u001b[37m\u001b[0m \u001b[1m15s\u001b[0m 14ms/step - accuracy: 0.6783 - loss: 0.9141 - val_accuracy: 0.5105 - val_loss: 1.5248\n",
      "Epoch 9/100\n",
      "\u001b[1m1094/1094\u001b[0m \u001b[32m━━━━━━━━━━━━━━━━━━━━\u001b[0m\u001b[37m\u001b[0m \u001b[1m15s\u001b[0m 14ms/step - accuracy: 0.7745 - loss: 0.6539 - val_accuracy: 0.5102 - val_loss: 1.6888\n",
      "Epoch 10/100\n",
      "\u001b[1m1094/1094\u001b[0m \u001b[32m━━━━━━━━━━━━━━━━━━━━\u001b[0m\u001b[37m\u001b[0m \u001b[1m15s\u001b[0m 14ms/step - accuracy: 0.8452 - loss: 0.4509 - val_accuracy: 0.5187 - val_loss: 1.9705\n",
      "Epoch 11/100\n",
      "\u001b[1m1094/1094\u001b[0m \u001b[32m━━━━━━━━━━━━━━━━━━━━\u001b[0m\u001b[37m\u001b[0m \u001b[1m15s\u001b[0m 14ms/step - accuracy: 0.8872 - loss: 0.3299 - val_accuracy: 0.5183 - val_loss: 2.3347\n",
      "Epoch 12/100\n",
      "\u001b[1m1094/1094\u001b[0m \u001b[32m━━━━━━━━━━━━━━━━━━━━\u001b[0m\u001b[37m\u001b[0m \u001b[1m15s\u001b[0m 14ms/step - accuracy: 0.9228 - loss: 0.2243 - val_accuracy: 0.5023 - val_loss: 2.6842\n",
      "Epoch 13/100\n",
      "\u001b[1m1094/1094\u001b[0m \u001b[32m━━━━━━━━━━━━━━━━━━━━\u001b[0m\u001b[37m\u001b[0m \u001b[1m15s\u001b[0m 14ms/step - accuracy: 0.9311 - loss: 0.2081 - val_accuracy: 0.5004 - val_loss: 3.1403\n",
      "Epoch 14/100\n",
      "\u001b[1m1094/1094\u001b[0m \u001b[32m━━━━━━━━━━━━━━━━━━━━\u001b[0m\u001b[37m\u001b[0m \u001b[1m16s\u001b[0m 14ms/step - accuracy: 0.9406 - loss: 0.1831 - val_accuracy: 0.5049 - val_loss: 3.2218\n",
      "Epoch 15/100\n",
      "\u001b[1m1094/1094\u001b[0m \u001b[32m━━━━━━━━━━━━━━━━━━━━\u001b[0m\u001b[37m\u001b[0m \u001b[1m15s\u001b[0m 14ms/step - accuracy: 0.9516 - loss: 0.1506 - val_accuracy: 0.5113 - val_loss: 3.6036\n",
      "Epoch 16/100\n",
      "\u001b[1m1094/1094\u001b[0m \u001b[32m━━━━━━━━━━━━━━━━━━━━\u001b[0m\u001b[37m\u001b[0m \u001b[1m16s\u001b[0m 15ms/step - accuracy: 0.9568 - loss: 0.1335 - val_accuracy: 0.4951 - val_loss: 3.7429\n",
      "Epoch 17/100\n",
      "\u001b[1m1094/1094\u001b[0m \u001b[32m━━━━━━━━━━━━━━━━━━━━\u001b[0m\u001b[37m\u001b[0m \u001b[1m15s\u001b[0m 14ms/step - accuracy: 0.9612 - loss: 0.1205 - val_accuracy: 0.4938 - val_loss: 3.9700\n",
      "Epoch 18/100\n",
      "\u001b[1m1094/1094\u001b[0m \u001b[32m━━━━━━━━━━━━━━━━━━━━\u001b[0m\u001b[37m\u001b[0m \u001b[1m15s\u001b[0m 14ms/step - accuracy: 0.9573 - loss: 0.1382 - val_accuracy: 0.4945 - val_loss: 4.4312\n",
      "Epoch 19/100\n",
      "\u001b[1m1094/1094\u001b[0m \u001b[32m━━━━━━━━━━━━━━━━━━━━\u001b[0m\u001b[37m\u001b[0m \u001b[1m15s\u001b[0m 14ms/step - accuracy: 0.9623 - loss: 0.1164 - val_accuracy: 0.5043 - val_loss: 4.8207\n",
      "Epoch 20/100\n",
      "\u001b[1m1094/1094\u001b[0m \u001b[32m━━━━━━━━━━━━━━━━━━━━\u001b[0m\u001b[37m\u001b[0m \u001b[1m15s\u001b[0m 14ms/step - accuracy: 0.9679 - loss: 0.1057 - val_accuracy: 0.4885 - val_loss: 4.6386\n",
      "Epoch 21/100\n",
      "\u001b[1m1094/1094\u001b[0m \u001b[32m━━━━━━━━━━━━━━━━━━━━\u001b[0m\u001b[37m\u001b[0m \u001b[1m17s\u001b[0m 16ms/step - accuracy: 0.9584 - loss: 0.1366 - val_accuracy: 0.5035 - val_loss: 5.0313\n",
      "Epoch 22/100\n",
      "\u001b[1m1094/1094\u001b[0m \u001b[32m━━━━━━━━━━━━━━━━━━━━\u001b[0m\u001b[37m\u001b[0m \u001b[1m15s\u001b[0m 14ms/step - accuracy: 0.9685 - loss: 0.0999 - val_accuracy: 0.4973 - val_loss: 5.5879\n",
      "Epoch 23/100\n",
      "\u001b[1m1094/1094\u001b[0m \u001b[32m━━━━━━━━━━━━━━━━━━━━\u001b[0m\u001b[37m\u001b[0m \u001b[1m17s\u001b[0m 16ms/step - accuracy: 0.9673 - loss: 0.1086 - val_accuracy: 0.4977 - val_loss: 5.5689\n",
      "Epoch 24/100\n",
      "\u001b[1m1094/1094\u001b[0m \u001b[32m━━━━━━━━━━━━━━━━━━━━\u001b[0m\u001b[37m\u001b[0m \u001b[1m17s\u001b[0m 16ms/step - accuracy: 0.9620 - loss: 0.1404 - val_accuracy: 0.5013 - val_loss: 5.6757\n",
      "Epoch 25/100\n",
      "\u001b[1m1094/1094\u001b[0m \u001b[32m━━━━━━━━━━━━━━━━━━━━\u001b[0m\u001b[37m\u001b[0m \u001b[1m17s\u001b[0m 16ms/step - accuracy: 0.9723 - loss: 0.0909 - val_accuracy: 0.4879 - val_loss: 5.8903\n",
      "Epoch 26/100\n",
      "\u001b[1m1094/1094\u001b[0m \u001b[32m━━━━━━━━━━━━━━━━━━━━\u001b[0m\u001b[37m\u001b[0m \u001b[1m17s\u001b[0m 16ms/step - accuracy: 0.9662 - loss: 0.1232 - val_accuracy: 0.4993 - val_loss: 5.6644\n",
      "Epoch 27/100\n",
      "\u001b[1m1094/1094\u001b[0m \u001b[32m━━━━━━━━━━━━━━━━━━━━\u001b[0m\u001b[37m\u001b[0m \u001b[1m16s\u001b[0m 15ms/step - accuracy: 0.9717 - loss: 0.0976 - val_accuracy: 0.4945 - val_loss: 6.3099\n",
      "Epoch 28/100\n",
      "\u001b[1m1094/1094\u001b[0m \u001b[32m━━━━━━━━━━━━━━━━━━━━\u001b[0m\u001b[37m\u001b[0m \u001b[1m15s\u001b[0m 13ms/step - accuracy: 0.9715 - loss: 0.1011 - val_accuracy: 0.4987 - val_loss: 6.3292\n",
      "Epoch 29/100\n",
      "\u001b[1m1094/1094\u001b[0m \u001b[32m━━━━━━━━━━━━━━━━━━━━\u001b[0m\u001b[37m\u001b[0m \u001b[1m15s\u001b[0m 14ms/step - accuracy: 0.9736 - loss: 0.0912 - val_accuracy: 0.4866 - val_loss: 6.1956\n",
      "Epoch 30/100\n",
      "\u001b[1m1094/1094\u001b[0m \u001b[32m━━━━━━━━━━━━━━━━━━━━\u001b[0m\u001b[37m\u001b[0m \u001b[1m15s\u001b[0m 14ms/step - accuracy: 0.9751 - loss: 0.0894 - val_accuracy: 0.4914 - val_loss: 6.5030\n",
      "Epoch 31/100\n",
      "\u001b[1m1094/1094\u001b[0m \u001b[32m━━━━━━━━━━━━━━━━━━━━\u001b[0m\u001b[37m\u001b[0m \u001b[1m16s\u001b[0m 14ms/step - accuracy: 0.9705 - loss: 0.1123 - val_accuracy: 0.5011 - val_loss: 6.2969\n",
      "Epoch 32/100\n",
      "\u001b[1m1094/1094\u001b[0m \u001b[32m━━━━━━━━━━━━━━━━━━━━\u001b[0m\u001b[37m\u001b[0m \u001b[1m16s\u001b[0m 14ms/step - accuracy: 0.9751 - loss: 0.0862 - val_accuracy: 0.4933 - val_loss: 6.8538\n",
      "Epoch 33/100\n",
      "\u001b[1m1094/1094\u001b[0m \u001b[32m━━━━━━━━━━━━━━━━━━━━\u001b[0m\u001b[37m\u001b[0m \u001b[1m15s\u001b[0m 14ms/step - accuracy: 0.9738 - loss: 0.1033 - val_accuracy: 0.4952 - val_loss: 7.0563\n",
      "Epoch 34/100\n",
      "\u001b[1m1094/1094\u001b[0m \u001b[32m━━━━━━━━━━━━━━━━━━━━\u001b[0m\u001b[37m\u001b[0m \u001b[1m16s\u001b[0m 14ms/step - accuracy: 0.9728 - loss: 0.1061 - val_accuracy: 0.4967 - val_loss: 7.0563\n",
      "Epoch 35/100\n",
      "\u001b[1m1094/1094\u001b[0m \u001b[32m━━━━━━━━━━━━━━━━━━━━\u001b[0m\u001b[37m\u001b[0m \u001b[1m16s\u001b[0m 14ms/step - accuracy: 0.9760 - loss: 0.0954 - val_accuracy: 0.4916 - val_loss: 6.9912\n",
      "Epoch 36/100\n",
      "\u001b[1m1094/1094\u001b[0m \u001b[32m━━━━━━━━━━━━━━━━━━━━\u001b[0m\u001b[37m\u001b[0m \u001b[1m16s\u001b[0m 14ms/step - accuracy: 0.9787 - loss: 0.0759 - val_accuracy: 0.4963 - val_loss: 7.3935\n",
      "Epoch 37/100\n",
      "\u001b[1m1094/1094\u001b[0m \u001b[32m━━━━━━━━━━━━━━━━━━━━\u001b[0m\u001b[37m\u001b[0m \u001b[1m17s\u001b[0m 15ms/step - accuracy: 0.9704 - loss: 0.1127 - val_accuracy: 0.4991 - val_loss: 7.4089\n",
      "Epoch 38/100\n",
      "\u001b[1m1094/1094\u001b[0m \u001b[32m━━━━━━━━━━━━━━━━━━━━\u001b[0m\u001b[37m\u001b[0m \u001b[1m17s\u001b[0m 15ms/step - accuracy: 0.9767 - loss: 0.0898 - val_accuracy: 0.5026 - val_loss: 7.2393\n",
      "Epoch 39/100\n",
      "\u001b[1m1094/1094\u001b[0m \u001b[32m━━━━━━━━━━━━━━━━━━━━\u001b[0m\u001b[37m\u001b[0m \u001b[1m16s\u001b[0m 15ms/step - accuracy: 0.9783 - loss: 0.0904 - val_accuracy: 0.4929 - val_loss: 8.2792\n",
      "Epoch 40/100\n",
      "\u001b[1m1094/1094\u001b[0m \u001b[32m━━━━━━━━━━━━━━━━━━━━\u001b[0m\u001b[37m\u001b[0m \u001b[1m16s\u001b[0m 14ms/step - accuracy: 0.9740 - loss: 0.1124 - val_accuracy: 0.4945 - val_loss: 7.9610\n",
      "Epoch 41/100\n",
      "\u001b[1m1094/1094\u001b[0m \u001b[32m━━━━━━━━━━━━━━━━━━━━\u001b[0m\u001b[37m\u001b[0m \u001b[1m17s\u001b[0m 15ms/step - accuracy: 0.9737 - loss: 0.1074 - val_accuracy: 0.4990 - val_loss: 7.7527\n",
      "Epoch 42/100\n",
      "\u001b[1m1094/1094\u001b[0m \u001b[32m━━━━━━━━━━━━━━━━━━━━\u001b[0m\u001b[37m\u001b[0m \u001b[1m17s\u001b[0m 15ms/step - accuracy: 0.9810 - loss: 0.0805 - val_accuracy: 0.4913 - val_loss: 8.0932\n",
      "Epoch 43/100\n",
      "\u001b[1m1094/1094\u001b[0m \u001b[32m━━━━━━━━━━━━━━━━━━━━\u001b[0m\u001b[37m\u001b[0m \u001b[1m15s\u001b[0m 14ms/step - accuracy: 0.9770 - loss: 0.0974 - val_accuracy: 0.4987 - val_loss: 8.0354\n",
      "Epoch 44/100\n",
      "\u001b[1m1094/1094\u001b[0m \u001b[32m━━━━━━━━━━━━━━━━━━━━\u001b[0m\u001b[37m\u001b[0m \u001b[1m16s\u001b[0m 14ms/step - accuracy: 0.9782 - loss: 0.0927 - val_accuracy: 0.4911 - val_loss: 8.0731\n",
      "Epoch 45/100\n",
      "\u001b[1m1094/1094\u001b[0m \u001b[32m━━━━━━━━━━━━━━━━━━━━\u001b[0m\u001b[37m\u001b[0m \u001b[1m17s\u001b[0m 15ms/step - accuracy: 0.9804 - loss: 0.0883 - val_accuracy: 0.4903 - val_loss: 8.6005\n",
      "Epoch 46/100\n",
      "\u001b[1m1094/1094\u001b[0m \u001b[32m━━━━━━━━━━━━━━━━━━━━\u001b[0m\u001b[37m\u001b[0m \u001b[1m16s\u001b[0m 14ms/step - accuracy: 0.9771 - loss: 0.1009 - val_accuracy: 0.4998 - val_loss: 8.4145\n",
      "Epoch 47/100\n",
      "\u001b[1m1094/1094\u001b[0m \u001b[32m━━━━━━━━━━━━━━━━━━━━\u001b[0m\u001b[37m\u001b[0m \u001b[1m16s\u001b[0m 15ms/step - accuracy: 0.9802 - loss: 0.0851 - val_accuracy: 0.4897 - val_loss: 9.3136\n",
      "Epoch 48/100\n",
      "\u001b[1m1094/1094\u001b[0m \u001b[32m━━━━━━━━━━━━━━━━━━━━\u001b[0m\u001b[37m\u001b[0m \u001b[1m16s\u001b[0m 15ms/step - accuracy: 0.9813 - loss: 0.0793 - val_accuracy: 0.4904 - val_loss: 9.3534\n",
      "Epoch 49/100\n",
      "\u001b[1m1094/1094\u001b[0m \u001b[32m━━━━━━━━━━━━━━━━━━━━\u001b[0m\u001b[37m\u001b[0m \u001b[1m16s\u001b[0m 15ms/step - accuracy: 0.9811 - loss: 0.0818 - val_accuracy: 0.4916 - val_loss: 9.4488\n",
      "Epoch 50/100\n",
      "\u001b[1m1094/1094\u001b[0m \u001b[32m━━━━━━━━━━━━━━━━━━━━\u001b[0m\u001b[37m\u001b[0m \u001b[1m16s\u001b[0m 15ms/step - accuracy: 0.9779 - loss: 0.0962 - val_accuracy: 0.4973 - val_loss: 9.2308\n",
      "Epoch 51/100\n",
      "\u001b[1m1094/1094\u001b[0m \u001b[32m━━━━━━━━━━━━━━━━━━━━\u001b[0m\u001b[37m\u001b[0m \u001b[1m16s\u001b[0m 15ms/step - accuracy: 0.9798 - loss: 0.0879 - val_accuracy: 0.4983 - val_loss: 10.2410\n",
      "Epoch 52/100\n",
      "\u001b[1m1094/1094\u001b[0m \u001b[32m━━━━━━━━━━━━━━━━━━━━\u001b[0m\u001b[37m\u001b[0m \u001b[1m16s\u001b[0m 15ms/step - accuracy: 0.9779 - loss: 0.1106 - val_accuracy: 0.4984 - val_loss: 10.4452\n",
      "Epoch 53/100\n",
      "\u001b[1m1094/1094\u001b[0m \u001b[32m━━━━━━━━━━━━━━━━━━━━\u001b[0m\u001b[37m\u001b[0m \u001b[1m16s\u001b[0m 15ms/step - accuracy: 0.9793 - loss: 0.0972 - val_accuracy: 0.4941 - val_loss: 10.0204\n",
      "Epoch 54/100\n",
      "\u001b[1m1094/1094\u001b[0m \u001b[32m━━━━━━━━━━━━━━━━━━━━\u001b[0m\u001b[37m\u001b[0m \u001b[1m16s\u001b[0m 15ms/step - accuracy: 0.9787 - loss: 0.1003 - val_accuracy: 0.4943 - val_loss: 10.4938\n",
      "Epoch 55/100\n",
      "\u001b[1m1094/1094\u001b[0m \u001b[32m━━━━━━━━━━━━━━━━━━━━\u001b[0m\u001b[37m\u001b[0m \u001b[1m17s\u001b[0m 15ms/step - accuracy: 0.9829 - loss: 0.0814 - val_accuracy: 0.4900 - val_loss: 10.5081\n",
      "Epoch 56/100\n",
      "\u001b[1m1094/1094\u001b[0m \u001b[32m━━━━━━━━━━━━━━━━━━━━\u001b[0m\u001b[37m\u001b[0m \u001b[1m17s\u001b[0m 15ms/step - accuracy: 0.9790 - loss: 0.1113 - val_accuracy: 0.4905 - val_loss: 11.3268\n",
      "Epoch 57/100\n",
      "\u001b[1m1094/1094\u001b[0m \u001b[32m━━━━━━━━━━━━━━━━━━━━\u001b[0m\u001b[37m\u001b[0m \u001b[1m17s\u001b[0m 16ms/step - accuracy: 0.9801 - loss: 0.0998 - val_accuracy: 0.4959 - val_loss: 10.9670\n",
      "Epoch 58/100\n",
      "\u001b[1m1094/1094\u001b[0m \u001b[32m━━━━━━━━━━━━━━━━━━━━\u001b[0m\u001b[37m\u001b[0m \u001b[1m15s\u001b[0m 14ms/step - accuracy: 0.9803 - loss: 0.0879 - val_accuracy: 0.5024 - val_loss: 10.5377\n",
      "Epoch 59/100\n",
      "\u001b[1m1094/1094\u001b[0m \u001b[32m━━━━━━━━━━━━━━━━━━━━\u001b[0m\u001b[37m\u001b[0m \u001b[1m15s\u001b[0m 14ms/step - accuracy: 0.9849 - loss: 0.0700 - val_accuracy: 0.4949 - val_loss: 11.2417\n",
      "Epoch 60/100\n",
      "\u001b[1m1094/1094\u001b[0m \u001b[32m━━━━━━━━━━━━━━━━━━━━\u001b[0m\u001b[37m\u001b[0m \u001b[1m16s\u001b[0m 14ms/step - accuracy: 0.9775 - loss: 0.1251 - val_accuracy: 0.4979 - val_loss: 11.7921\n",
      "Epoch 61/100\n",
      "\u001b[1m1094/1094\u001b[0m \u001b[32m━━━━━━━━━━━━━━━━━━━━\u001b[0m\u001b[37m\u001b[0m \u001b[1m15s\u001b[0m 14ms/step - accuracy: 0.9837 - loss: 0.0846 - val_accuracy: 0.4845 - val_loss: 11.1737\n",
      "Epoch 62/100\n",
      "\u001b[1m1094/1094\u001b[0m \u001b[32m━━━━━━━━━━━━━━━━━━━━\u001b[0m\u001b[37m\u001b[0m \u001b[1m17s\u001b[0m 15ms/step - accuracy: 0.9822 - loss: 0.0876 - val_accuracy: 0.4962 - val_loss: 10.9126\n",
      "Epoch 63/100\n",
      "\u001b[1m1094/1094\u001b[0m \u001b[32m━━━━━━━━━━━━━━━━━━━━\u001b[0m\u001b[37m\u001b[0m \u001b[1m17s\u001b[0m 15ms/step - accuracy: 0.9830 - loss: 0.0911 - val_accuracy: 0.4942 - val_loss: 12.1753\n",
      "Epoch 64/100\n",
      "\u001b[1m1094/1094\u001b[0m \u001b[32m━━━━━━━━━━━━━━━━━━━━\u001b[0m\u001b[37m\u001b[0m \u001b[1m16s\u001b[0m 14ms/step - accuracy: 0.9803 - loss: 0.1047 - val_accuracy: 0.4861 - val_loss: 13.6800\n",
      "Epoch 65/100\n",
      "\u001b[1m1094/1094\u001b[0m \u001b[32m━━━━━━━━━━━━━━━━━━━━\u001b[0m\u001b[37m\u001b[0m \u001b[1m17s\u001b[0m 16ms/step - accuracy: 0.9822 - loss: 0.1039 - val_accuracy: 0.5002 - val_loss: 12.2407\n",
      "Epoch 66/100\n",
      "\u001b[1m1094/1094\u001b[0m \u001b[32m━━━━━━━━━━━━━━━━━━━━\u001b[0m\u001b[37m\u001b[0m \u001b[1m16s\u001b[0m 15ms/step - accuracy: 0.9814 - loss: 0.0966 - val_accuracy: 0.4934 - val_loss: 12.0246\n",
      "Epoch 67/100\n",
      "\u001b[1m1094/1094\u001b[0m \u001b[32m━━━━━━━━━━━━━━━━━━━━\u001b[0m\u001b[37m\u001b[0m \u001b[1m16s\u001b[0m 15ms/step - accuracy: 0.9814 - loss: 0.1033 - val_accuracy: 0.4941 - val_loss: 12.3335\n",
      "Epoch 68/100\n",
      "\u001b[1m1094/1094\u001b[0m \u001b[32m━━━━━━━━━━━━━━━━━━━━\u001b[0m\u001b[37m\u001b[0m \u001b[1m15s\u001b[0m 14ms/step - accuracy: 0.9823 - loss: 0.1119 - val_accuracy: 0.4939 - val_loss: 13.4562\n",
      "Epoch 69/100\n",
      "\u001b[1m1094/1094\u001b[0m \u001b[32m━━━━━━━━━━━━━━━━━━━━\u001b[0m\u001b[37m\u001b[0m \u001b[1m18s\u001b[0m 16ms/step - accuracy: 0.9812 - loss: 0.1017 - val_accuracy: 0.4991 - val_loss: 12.5739\n",
      "Epoch 70/100\n",
      "\u001b[1m1094/1094\u001b[0m \u001b[32m━━━━━━━━━━━━━━━━━━━━\u001b[0m\u001b[37m\u001b[0m \u001b[1m18s\u001b[0m 16ms/step - accuracy: 0.9832 - loss: 0.0935 - val_accuracy: 0.4929 - val_loss: 12.7436\n",
      "Epoch 71/100\n",
      "\u001b[1m1094/1094\u001b[0m \u001b[32m━━━━━━━━━━━━━━━━━━━━\u001b[0m\u001b[37m\u001b[0m \u001b[1m16s\u001b[0m 15ms/step - accuracy: 0.9864 - loss: 0.0660 - val_accuracy: 0.5077 - val_loss: 12.4559\n",
      "Epoch 72/100\n",
      "\u001b[1m1094/1094\u001b[0m \u001b[32m━━━━━━━━━━━━━━━━━━━━\u001b[0m\u001b[37m\u001b[0m \u001b[1m16s\u001b[0m 15ms/step - accuracy: 0.9839 - loss: 0.0894 - val_accuracy: 0.4927 - val_loss: 13.0841\n",
      "Epoch 73/100\n",
      "\u001b[1m1094/1094\u001b[0m \u001b[32m━━━━━━━━━━━━━━━━━━━━\u001b[0m\u001b[37m\u001b[0m \u001b[1m16s\u001b[0m 15ms/step - accuracy: 0.9842 - loss: 0.0991 - val_accuracy: 0.4899 - val_loss: 13.3633\n",
      "Epoch 74/100\n",
      "\u001b[1m1094/1094\u001b[0m \u001b[32m━━━━━━━━━━━━━━━━━━━━\u001b[0m\u001b[37m\u001b[0m \u001b[1m16s\u001b[0m 15ms/step - accuracy: 0.9846 - loss: 0.0831 - val_accuracy: 0.4795 - val_loss: 13.9539\n",
      "Epoch 75/100\n",
      "\u001b[1m1094/1094\u001b[0m \u001b[32m━━━━━━━━━━━━━━━━━━━━\u001b[0m\u001b[37m\u001b[0m \u001b[1m16s\u001b[0m 15ms/step - accuracy: 0.9789 - loss: 0.1237 - val_accuracy: 0.4935 - val_loss: 14.3542\n",
      "Epoch 76/100\n",
      "\u001b[1m1094/1094\u001b[0m \u001b[32m━━━━━━━━━━━━━━━━━━━━\u001b[0m\u001b[37m\u001b[0m \u001b[1m17s\u001b[0m 15ms/step - accuracy: 0.9752 - loss: 0.1648 - val_accuracy: 0.4883 - val_loss: 13.8912\n",
      "Epoch 77/100\n",
      "\u001b[1m1094/1094\u001b[0m \u001b[32m━━━━━━━━━━━━━━━━━━━━\u001b[0m\u001b[37m\u001b[0m \u001b[1m17s\u001b[0m 15ms/step - accuracy: 0.9855 - loss: 0.0848 - val_accuracy: 0.4889 - val_loss: 15.6651\n",
      "Epoch 78/100\n",
      "\u001b[1m1094/1094\u001b[0m \u001b[32m━━━━━━━━━━━━━━━━━━━━\u001b[0m\u001b[37m\u001b[0m \u001b[1m16s\u001b[0m 14ms/step - accuracy: 0.9848 - loss: 0.0984 - val_accuracy: 0.4952 - val_loss: 15.1234\n",
      "Epoch 79/100\n",
      "\u001b[1m1094/1094\u001b[0m \u001b[32m━━━━━━━━━━━━━━━━━━━━\u001b[0m\u001b[37m\u001b[0m \u001b[1m15s\u001b[0m 14ms/step - accuracy: 0.9880 - loss: 0.0803 - val_accuracy: 0.4921 - val_loss: 14.6940\n",
      "Epoch 80/100\n",
      "\u001b[1m1094/1094\u001b[0m \u001b[32m━━━━━━━━━━━━━━━━━━━━\u001b[0m\u001b[37m\u001b[0m \u001b[1m16s\u001b[0m 15ms/step - accuracy: 0.9799 - loss: 0.1378 - val_accuracy: 0.5009 - val_loss: 16.1508\n",
      "Epoch 81/100\n",
      "\u001b[1m1094/1094\u001b[0m \u001b[32m━━━━━━━━━━━━━━━━━━━━\u001b[0m\u001b[37m\u001b[0m \u001b[1m17s\u001b[0m 16ms/step - accuracy: 0.9849 - loss: 0.0854 - val_accuracy: 0.4936 - val_loss: 14.6493\n",
      "Epoch 82/100\n",
      "\u001b[1m1094/1094\u001b[0m \u001b[32m━━━━━━━━━━━━━━━━━━━━\u001b[0m\u001b[37m\u001b[0m \u001b[1m18s\u001b[0m 16ms/step - accuracy: 0.9835 - loss: 0.1041 - val_accuracy: 0.4877 - val_loss: 15.8794\n",
      "Epoch 83/100\n",
      "\u001b[1m1094/1094\u001b[0m \u001b[32m━━━━━━━━━━━━━━━━━━━━\u001b[0m\u001b[37m\u001b[0m \u001b[1m16s\u001b[0m 15ms/step - accuracy: 0.9851 - loss: 0.0988 - val_accuracy: 0.4923 - val_loss: 16.1343\n",
      "Epoch 84/100\n",
      "\u001b[1m1094/1094\u001b[0m \u001b[32m━━━━━━━━━━━━━━━━━━━━\u001b[0m\u001b[37m\u001b[0m \u001b[1m15s\u001b[0m 14ms/step - accuracy: 0.9830 - loss: 0.1113 - val_accuracy: 0.4926 - val_loss: 16.6881\n",
      "Epoch 85/100\n",
      "\u001b[1m1094/1094\u001b[0m \u001b[32m━━━━━━━━━━━━━━━━━━━━\u001b[0m\u001b[37m\u001b[0m \u001b[1m15s\u001b[0m 14ms/step - accuracy: 0.9851 - loss: 0.1003 - val_accuracy: 0.4865 - val_loss: 16.4538\n",
      "Epoch 86/100\n",
      "\u001b[1m1094/1094\u001b[0m \u001b[32m━━━━━━━━━━━━━━━━━━━━\u001b[0m\u001b[37m\u001b[0m \u001b[1m17s\u001b[0m 15ms/step - accuracy: 0.9824 - loss: 0.1260 - val_accuracy: 0.4926 - val_loss: 16.1668\n",
      "Epoch 87/100\n",
      "\u001b[1m1094/1094\u001b[0m \u001b[32m━━━━━━━━━━━━━━━━━━━━\u001b[0m\u001b[37m\u001b[0m \u001b[1m17s\u001b[0m 16ms/step - accuracy: 0.9839 - loss: 0.1203 - val_accuracy: 0.4862 - val_loss: 17.5105\n",
      "Epoch 88/100\n",
      "\u001b[1m1094/1094\u001b[0m \u001b[32m━━━━━━━━━━━━━━━━━━━━\u001b[0m\u001b[37m\u001b[0m \u001b[1m16s\u001b[0m 14ms/step - accuracy: 0.9834 - loss: 0.1162 - val_accuracy: 0.4863 - val_loss: 18.2266\n",
      "Epoch 89/100\n",
      "\u001b[1m1094/1094\u001b[0m \u001b[32m━━━━━━━━━━━━━━━━━━━━\u001b[0m\u001b[37m\u001b[0m \u001b[1m17s\u001b[0m 15ms/step - accuracy: 0.9802 - loss: 0.1503 - val_accuracy: 0.4922 - val_loss: 17.8322\n",
      "Epoch 90/100\n",
      "\u001b[1m1094/1094\u001b[0m \u001b[32m━━━━━━━━━━━━━━━━━━━━\u001b[0m\u001b[37m\u001b[0m \u001b[1m17s\u001b[0m 15ms/step - accuracy: 0.9860 - loss: 0.1135 - val_accuracy: 0.4961 - val_loss: 18.1834\n",
      "Epoch 91/100\n",
      "\u001b[1m1094/1094\u001b[0m \u001b[32m━━━━━━━━━━━━━━━━━━━━\u001b[0m\u001b[37m\u001b[0m \u001b[1m16s\u001b[0m 15ms/step - accuracy: 0.9838 - loss: 0.1173 - val_accuracy: 0.4964 - val_loss: 17.7421\n",
      "Epoch 92/100\n",
      "\u001b[1m1094/1094\u001b[0m \u001b[32m━━━━━━━━━━━━━━━━━━━━\u001b[0m\u001b[37m\u001b[0m \u001b[1m17s\u001b[0m 16ms/step - accuracy: 0.9894 - loss: 0.0650 - val_accuracy: 0.4927 - val_loss: 19.9688\n",
      "Epoch 93/100\n",
      "\u001b[1m1094/1094\u001b[0m \u001b[32m━━━━━━━━━━━━━━━━━━━━\u001b[0m\u001b[37m\u001b[0m \u001b[1m17s\u001b[0m 15ms/step - accuracy: 0.9871 - loss: 0.1111 - val_accuracy: 0.4880 - val_loss: 19.4536\n",
      "Epoch 94/100\n",
      "\u001b[1m1094/1094\u001b[0m \u001b[32m━━━━━━━━━━━━━━━━━━━━\u001b[0m\u001b[37m\u001b[0m \u001b[1m17s\u001b[0m 15ms/step - accuracy: 0.9861 - loss: 0.1021 - val_accuracy: 0.4960 - val_loss: 18.5162\n",
      "Epoch 95/100\n",
      "\u001b[1m1094/1094\u001b[0m \u001b[32m━━━━━━━━━━━━━━━━━━━━\u001b[0m\u001b[37m\u001b[0m \u001b[1m18s\u001b[0m 16ms/step - accuracy: 0.9818 - loss: 0.1482 - val_accuracy: 0.4922 - val_loss: 18.7881\n",
      "Epoch 96/100\n",
      "\u001b[1m1094/1094\u001b[0m \u001b[32m━━━━━━━━━━━━━━━━━━━━\u001b[0m\u001b[37m\u001b[0m \u001b[1m18s\u001b[0m 16ms/step - accuracy: 0.9876 - loss: 0.0970 - val_accuracy: 0.4894 - val_loss: 19.9117\n",
      "Epoch 97/100\n",
      "\u001b[1m1094/1094\u001b[0m \u001b[32m━━━━━━━━━━━━━━━━━━━━\u001b[0m\u001b[37m\u001b[0m \u001b[1m16s\u001b[0m 15ms/step - accuracy: 0.9883 - loss: 0.0843 - val_accuracy: 0.4879 - val_loss: 20.2191\n",
      "Epoch 98/100\n",
      "\u001b[1m1094/1094\u001b[0m \u001b[32m━━━━━━━━━━━━━━━━━━━━\u001b[0m\u001b[37m\u001b[0m \u001b[1m26s\u001b[0m 24ms/step - accuracy: 0.9860 - loss: 0.1193 - val_accuracy: 0.4848 - val_loss: 20.8424\n",
      "Epoch 99/100\n",
      "\u001b[1m1094/1094\u001b[0m \u001b[32m━━━━━━━━━━━━━━━━━━━━\u001b[0m\u001b[37m\u001b[0m \u001b[1m15s\u001b[0m 14ms/step - accuracy: 0.9871 - loss: 0.1025 - val_accuracy: 0.4939 - val_loss: 19.9848\n",
      "Epoch 100/100\n",
      "\u001b[1m1094/1094\u001b[0m \u001b[32m━━━━━━━━━━━━━━━━━━━━\u001b[0m\u001b[37m\u001b[0m \u001b[1m16s\u001b[0m 14ms/step - accuracy: 0.9861 - loss: 0.1041 - val_accuracy: 0.4894 - val_loss: 20.5255\n"
     ]
    }
   ],
   "source": [
    "# 모델을 컴파일한다.\n",
    "model.compile(optimizer = 'adam', loss = 'sparse_categorical_crossentropy', metrics = ['accuracy'])\n",
    "# 모델을 훈련한다.\n",
    "history = model.fit(X_train, y_train, epochs=100, verbose=1,validation_split=0.3)"
   ]
  },
  {
   "cell_type": "markdown",
   "id": "41318a29-cf76-4a3b-a814-0cc78ebfb926",
   "metadata": {},
   "source": [
    "### 훈련 평가"
   ]
  },
  {
   "cell_type": "code",
   "execution_count": 13,
   "id": "a68783c7-f7f3-482b-9a04-8c8ef6ba5266",
   "metadata": {},
   "outputs": [
    {
     "data": {
      "image/png": "[encoded data removed]",
      "text/plain": [
       "<Figure size 640x480 with 1 Axes>"
      ]
     },
     "metadata": {},
     "output_type": "display_data"
    }
   ],
   "source": [
    "# 손실값을 그래프로 그린다.\n",
    "plt.plot(history.history['loss'])\n",
    "plt.plot(history.history['val_loss'])\n",
    "plt.title('loss')\n",
    "plt.ylabel('loss')\n",
    "plt.xlabel('epoch')\n",
    "plt.legend(['loss', 'val_loss'], loc = 'lower right')\n",
    "plt.show()"
   ]
  },
  {
   "cell_type": "markdown",
   "id": "94558ec1",
   "metadata": {},
   "source": [
    "## 결과 확인"
   ]
  },
  {
   "cell_type": "code",
   "execution_count": 14,
   "id": "41ff7626",
   "metadata": {},
   "outputs": [
    {
     "name": "stdout",
     "output_type": "stream",
     "text": [
      "\u001b[1m313/313\u001b[0m \u001b[32m━━━━━━━━━━━━━━━━━━━━\u001b[0m\u001b[37m\u001b[0m \u001b[1m1s\u001b[0m 4ms/step\n",
      "AC: [3], pred: 3\n",
      "Detail: \n",
      "[4.8233107e-36 0.0000000e+00 1.5842562e-35 9.9996972e-01 0.0000000e+00\n",
      " 3.0278894e-05 0.0000000e+00 0.0000000e+00 0.0000000e+00 0.0000000e+00]\n"
     ]
    },
    {
     "data": {
      "image/png": "[encoded data removed]",
      "text/plain": [
       "<Figure size 640x480 with 1 Axes>"
      ]
     },
     "metadata": {},
     "output_type": "display_data"
    }
   ],
   "source": [
    "plt.figure()\n",
    "plt.imshow(X_test[0])\n",
    "y_pred = model.predict(X_test)\n",
    "pred = sorted(enumerate(y_pred[0]), key=lambda each: -each[1])[0][0]\n",
    "print(f'AC: {y_test[0]}, pred: {pred}')\n",
    "print(f'Detail: \\n{y_pred[0]}')"
   ]
  }
 ],
 "metadata": {
  "kernelspec": {
   "display_name": "Python 3 (ipykernel)",
   "language": "python",
   "name": "python3"
  },
  "language_info": {
   "codemirror_mode": {
    "name": "ipython",
    "version": 3
   },
   "file_extension": ".py",
   "mimetype": "text/x-python",
   "name": "python",
   "nbconvert_exporter": "python",
   "pygments_lexer": "ipython3",
   "version": "3.10.14"
  }
 },
 "nbformat": 4,
 "nbformat_minor": 5
}
