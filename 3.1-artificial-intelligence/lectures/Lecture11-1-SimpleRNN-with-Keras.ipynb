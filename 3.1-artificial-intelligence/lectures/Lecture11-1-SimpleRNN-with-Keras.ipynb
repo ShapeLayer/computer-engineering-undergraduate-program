{
 "cells": [
  {
   "cell_type": "markdown",
   "metadata": {},
   "source": [
    "# 케라스에서의 RNN"
   ]
  },
  {
   "cell_type": "code",
   "execution_count": 2,
   "metadata": {},
   "outputs": [],
   "source": [
    "import tensorflow as tf\n",
    "import numpy as np"
   ]
  },
  {
   "cell_type": "code",
   "execution_count": 3,
   "metadata": {},
   "outputs": [],
   "source": [
    "X = np.random.random([32, 10, 8]).astype(np.float32)"
   ]
  },
  {
   "cell_type": "code",
   "execution_count": 4,
   "metadata": {},
   "outputs": [
    {
     "name": "stderr",
     "output_type": "stream",
     "text": [
      "2024-06-17 00:31:41.195042: I metal_plugin/src/device/metal_device.cc:1154] Metal device set to: Apple M1\n",
      "2024-06-17 00:31:41.195073: I metal_plugin/src/device/metal_device.cc:296] systemMemory: 16.00 GB\n",
      "2024-06-17 00:31:41.195080: I metal_plugin/src/device/metal_device.cc:313] maxCacheSize: 5.33 GB\n",
      "2024-06-17 00:31:41.195309: I tensorflow/core/common_runtime/pluggable_device/pluggable_device_factory.cc:305] Could not identify NUMA node of platform GPU ID 0, defaulting to 0. Your kernel may not have been built with NUMA support.\n",
      "2024-06-17 00:31:41.195328: I tensorflow/core/common_runtime/pluggable_device/pluggable_device_factory.cc:271] Created TensorFlow device (/job:localhost/replica:0/task:0/device:GPU:0 with 0 MB memory) -> physical PluggableDevice (device: 0, name: METAL, pci bus id: <undefined>)\n"
     ]
    }
   ],
   "source": [
    "simple_rnn = tf.keras.layers.SimpleRNN(4)\n",
    "y = simple_rnn(X)"
   ]
  },
  {
   "cell_type": "code",
   "execution_count": 5,
   "metadata": {},
   "outputs": [
    {
     "data": {
      "text/plain": [
       "<tf.Tensor: shape=(32, 4), dtype=float32, numpy=\n",
       "array([[-0.4464631 ,  0.5595437 ,  0.95450586,  0.55794567],\n",
       "       [-0.35304925, -0.20090327,  0.9735261 ,  0.9312724 ],\n",
       "       [-0.50482345,  0.09449796,  0.9468472 ,  0.7716437 ],\n",
       "       [-0.03818886,  0.48623624,  0.6576389 ,  0.6509198 ],\n",
       "       [-0.528062  ,  0.5626    ,  0.7936348 ,  0.89810073],\n",
       "       [-0.45330095,  0.16067602,  0.5159547 ,  0.8469185 ],\n",
       "       [-0.14521527, -0.44909787,  0.9164201 ,  0.9183547 ],\n",
       "       [-0.47032532,  0.89847845,  0.8418877 ,  0.74123585],\n",
       "       [ 0.22495806,  0.6792909 ,  0.91088796,  0.84391516],\n",
       "       [-0.79722196,  0.34637746,  0.8381681 ,  0.8949448 ],\n",
       "       [-0.7893281 ,  0.2967975 ,  0.80159914,  0.73364836],\n",
       "       [-0.14501621, -0.35284814,  0.94144887,  0.8769725 ],\n",
       "       [-0.3290006 ,  0.36358953,  0.96114886,  0.9398358 ],\n",
       "       [-0.8840436 ,  0.2829631 ,  0.87679255,  0.85919285],\n",
       "       [-0.84644127,  0.40761232,  0.3712757 ,  0.7694856 ],\n",
       "       [ 0.6436996 ,  0.42058724,  0.9495131 ,  0.53368944],\n",
       "       [ 0.5247115 ,  0.01302918,  0.6565512 ,  0.7983981 ],\n",
       "       [-0.6105203 , -0.18277578,  0.9081057 ,  0.92888993],\n",
       "       [-0.2575765 , -0.29056406,  0.94982433,  0.7076593 ],\n",
       "       [ 0.07196973,  0.44226938,  0.9193037 ,  0.6747363 ],\n",
       "       [-0.74122095,  0.19418782,  0.45242482,  0.82864785],\n",
       "       [-0.89123505,  0.47957373,  0.35242465,  0.6661338 ],\n",
       "       [-0.23667382,  0.32143295,  0.8971219 ,  0.80173385],\n",
       "       [-0.58312124,  0.8655694 ,  0.46466753,  0.6387078 ],\n",
       "       [-0.5307778 ,  0.6025141 ,  0.81977654,  0.708447  ],\n",
       "       [ 0.33941108,  0.40594614,  0.505799  ,  0.52403665],\n",
       "       [-0.79097503,  0.5881273 ,  0.7008103 ,  0.7893622 ],\n",
       "       [-0.3597051 ,  0.4929341 ,  0.9591718 ,  0.53880584],\n",
       "       [-0.04826519,  0.6316983 ,  0.30028188,  0.55360943],\n",
       "       [-0.94210964, -0.15976664,  0.52019304,  0.9222258 ],\n",
       "       [-0.723323  ,  0.21935837,  0.9323575 ,  0.86117554],\n",
       "       [-0.33506134,  0.37802702,  0.88197154,  0.81871307]],\n",
       "      dtype=float32)>"
      ]
     },
     "execution_count": 5,
     "metadata": {},
     "output_type": "execute_result"
    }
   ],
   "source": [
    "y"
   ]
  }
 ],
 "metadata": {
  "kernelspec": {
   "display_name": "ai-lecture-3.10",
   "language": "python",
   "name": "python3"
  },
  "language_info": {
   "codemirror_mode": {
    "name": "ipython",
    "version": 3
   },
   "file_extension": ".py",
   "mimetype": "text/x-python",
   "name": "python",
   "nbconvert_exporter": "python",
   "pygments_lexer": "ipython3",
   "version": "3.10.14"
  }
 },
 "nbformat": 4,
 "nbformat_minor": 2
}
