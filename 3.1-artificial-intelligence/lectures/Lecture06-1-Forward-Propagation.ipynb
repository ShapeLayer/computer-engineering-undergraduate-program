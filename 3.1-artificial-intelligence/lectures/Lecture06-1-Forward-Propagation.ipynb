{
 "cells": [
  {
   "cell_type": "markdown",
   "metadata": {},
   "source": [
    "# 순전파"
   ]
  },
  {
   "cell_type": "markdown",
   "metadata": {},
   "source": [
    "## 활성화 함수"
   ]
  },
  {
   "cell_type": "code",
   "execution_count": 1,
   "metadata": {},
   "outputs": [],
   "source": [
    "import numpy as np"
   ]
  },
  {
   "cell_type": "code",
   "execution_count": 2,
   "metadata": {},
   "outputs": [],
   "source": [
    "import matplotlib.pyplot as plt"
   ]
  },
  {
   "cell_type": "markdown",
   "metadata": {},
   "source": [
    "### 계단 함수"
   ]
  },
  {
   "cell_type": "code",
   "execution_count": 3,
   "metadata": {},
   "outputs": [],
   "source": [
    "step_function = lambda x: np.array(x > 0, dtype=np.int32)"
   ]
  },
  {
   "cell_type": "code",
   "execution_count": 4,
   "metadata": {},
   "outputs": [
    {
     "data": {
      "image/png": "[encoded data removed]",
      "text/plain": [
       "<Figure size 640x480 with 1 Axes>"
      ]
     },
     "metadata": {},
     "output_type": "display_data"
    }
   ],
   "source": [
    "X = np.arange(-5, 5, .1)\n",
    "y = step_function(X)\n",
    "plt.plot(X, y)\n",
    "plt.show()"
   ]
  },
  {
   "cell_type": "markdown",
   "metadata": {},
   "source": [
    "### Sigmoid 함수"
   ]
  },
  {
   "cell_type": "code",
   "execution_count": 5,
   "metadata": {},
   "outputs": [],
   "source": [
    "sigmoid = lambda x: 1 / (1 + np.exp(-x))"
   ]
  },
  {
   "cell_type": "code",
   "execution_count": 6,
   "metadata": {},
   "outputs": [
    {
     "data": {
      "image/png": "[encoded data removed]",
      "text/plain": [
       "<Figure size 640x480 with 1 Axes>"
      ]
     },
     "metadata": {},
     "output_type": "display_data"
    }
   ],
   "source": [
    "X = np.arange(-25, 25, .1)\n",
    "y = sigmoid(X)\n",
    "plt.plot(X, y)\n",
    "plt.show()"
   ]
  },
  {
   "cell_type": "markdown",
   "metadata": {},
   "source": [
    "## 순전파 구현"
   ]
  },
  {
   "cell_type": "markdown",
   "metadata": {},
   "source": [
    "**첫 번째 레이어**\n",
    "\n",
    "$Z_1 = \\sigma(X \\cdot W_1) + B_1$\n",
    "* Size: $(1 \\times 3) = (1 \\times 2) \\cdot (2 \\times 3) + (1 \\times 3)$"
   ]
  },
  {
   "cell_type": "code",
   "execution_count": 7,
   "metadata": {},
   "outputs": [],
   "source": [
    "X = np.array([\n",
    "    [1., .5]\n",
    "])\n",
    "W1 = np.array([\n",
    "    [.1, .3, .5],\n",
    "    [.2, .4, .6]\n",
    "])\n",
    "B1 = np.array([\n",
    "    [.1, .2, .3]\n",
    "])\n",
    "\n",
    "A1 = np.dot(X, W1) + B1\n",
    "Z1 = sigmoid(A1)"
   ]
  },
  {
   "cell_type": "code",
   "execution_count": 8,
   "metadata": {},
   "outputs": [
    {
     "name": "stdout",
     "output_type": "stream",
     "text": [
      "X (1, 2)\n",
      "W1 (2, 3)\n",
      "B1 (1, 3)\n",
      "A1 (1, 3)\n",
      "Z1 (1, 3)\n"
     ]
    }
   ],
   "source": [
    "print('X', X.shape)\n",
    "print('W1', W1.shape)\n",
    "print('B1', B1.shape)\n",
    "print('A1', A1.shape)\n",
    "print('Z1', Z1.shape)"
   ]
  },
  {
   "cell_type": "code",
   "execution_count": 9,
   "metadata": {},
   "outputs": [
    {
     "name": "stdout",
     "output_type": "stream",
     "text": [
      "[[0.57444252 0.66818777 0.75026011]]\n"
     ]
    }
   ],
   "source": [
    "print(Z1)"
   ]
  },
  {
   "cell_type": "markdown",
   "metadata": {},
   "source": [
    "**두 번째 레이어**\n",
    "\n",
    "$Z_2 = \\sigma(Z_1 \\cdot W_2) + B_2$\n",
    "* Size: $(1 \\times 2) = (1 \\times 3) \\cdot (3 \\times 2) + (1 \\times 2)$"
   ]
  },
  {
   "cell_type": "code",
   "execution_count": 10,
   "metadata": {},
   "outputs": [],
   "source": [
    "W2 = np.array([\n",
    "    [.1, .4],\n",
    "    [.2, .5],\n",
    "    [.3, .6]\n",
    "])\n",
    "B2 = np.array([\n",
    "    [.1, .2]\n",
    "])\n",
    "\n",
    "A2 = np.dot(Z1, W2) + B2\n",
    "Z2 = sigmoid(A2)"
   ]
  },
  {
   "cell_type": "markdown",
   "metadata": {},
   "source": [
    "**세 번째 레이어**\n",
    "\n",
    "$Z_3 = I(Z_2 \\cdot W_3) + B_3$\n",
    "* Size: $(1 \\times 2) = (1 \\times 2) \\cdot (2 \\times 2) + (1 \\times 2)$"
   ]
  },
  {
   "cell_type": "code",
   "execution_count": 11,
   "metadata": {},
   "outputs": [],
   "source": [
    "eye = lambda x: x"
   ]
  },
  {
   "cell_type": "code",
   "execution_count": 12,
   "metadata": {},
   "outputs": [],
   "source": [
    "W3 = np.array([\n",
    "    [.1, .3],\n",
    "    [.2, .4]\n",
    "])\n",
    "B3 = np.array([\n",
    "    [.1, .2]\n",
    "])\n",
    "\n",
    "A3 = np.dot(Z2, W3) + B3\n",
    "Z3 = eye(A3)"
   ]
  },
  {
   "cell_type": "code",
   "execution_count": 13,
   "metadata": {},
   "outputs": [
    {
     "data": {
      "text/plain": [
       "array([[0.31682708, 0.69627909]])"
      ]
     },
     "execution_count": 13,
     "metadata": {},
     "output_type": "execute_result"
    }
   ],
   "source": [
    "y = Z3\n",
    "y"
   ]
  },
  {
   "cell_type": "markdown",
   "metadata": {},
   "source": [
    "## 순전파 함수화"
   ]
  },
  {
   "cell_type": "code",
   "execution_count": 14,
   "metadata": {},
   "outputs": [
    {
     "name": "stdout",
     "output_type": "stream",
     "text": [
      "[[0.31682708 0.69627909]]\n"
     ]
    }
   ],
   "source": [
    "def init_network():\n",
    "    network = {}\n",
    "    network['W1'] = np.array([[.1, .3, .5], [.2, .4, .6]])\n",
    "    network['B1'] = np.array([[.1, .2, .3]])\n",
    "    network['W2'] = np.array([[.1, .4], [.2, .5], [.3, .6]])\n",
    "    network['B2'] = np.array([[.1, .2]])\n",
    "    network['W3'] = np.array([[.1, .3], [.2, .4]])\n",
    "    network['B3'] = np.array([[.1, .2]])\n",
    "    return network\n",
    "\n",
    "def forward(network, X):\n",
    "    A1 = np.dot(X, network['W1']) + network['B1']\n",
    "    Z1 = sigmoid(A1)\n",
    "    A2 = np.dot(Z1, network['W2']) + network['B2']\n",
    "    Z2 = sigmoid(A2)\n",
    "    A3 = np.dot(Z2, network['W3']) + network['B3']\n",
    "    Z3 = eye(A3)\n",
    "    y = Z3\n",
    "    return y\n",
    "\n",
    "network = init_network()\n",
    "X = np.array([[1., .5]])\n",
    "y = forward(network, X)\n",
    "print(y)"
   ]
  }
 ],
 "metadata": {
  "kernelspec": {
   "display_name": "ai-lecture-3.10",
   "language": "python",
   "name": "python3"
  },
  "language_info": {
   "codemirror_mode": {
    "name": "ipython",
    "version": 3
   },
   "file_extension": ".py",
   "mimetype": "text/x-python",
   "name": "python",
   "nbconvert_exporter": "python",
   "pygments_lexer": "ipython3",
   "version": "3.10.14"
  }
 },
 "nbformat": 4,
 "nbformat_minor": 2
}
