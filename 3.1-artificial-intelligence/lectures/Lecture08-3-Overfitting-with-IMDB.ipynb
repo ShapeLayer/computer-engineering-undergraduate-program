{
 "cells": [
  {
   "cell_type": "markdown",
   "metadata": {},
   "source": [
    "# IMDB 데이터를 이용한 과잉 적합의 구현과 해결"
   ]
  },
  {
   "cell_type": "code",
   "execution_count": 1,
   "metadata": {},
   "outputs": [],
   "source": [
    "import numpy as numpy\n",
    "import tensorflow as tf\n",
    "import matplotlib.pyplot as plt"
   ]
  },
  {
   "cell_type": "code",
   "execution_count": 2,
   "metadata": {},
   "outputs": [],
   "source": [
    "(train_X, train_y), (test_X, test_y) = tf.keras.datasets.imdb.load_data(num_words=1000)"
   ]
  },
  {
   "cell_type": "code",
   "execution_count": 3,
   "metadata": {},
   "outputs": [],
   "source": [
    "def gen_one_hot(arr, dim=1000):\n",
    "    results = numpy.zeros((len(arr), dim))\n",
    "    for i, word_index in enumerate(arr):\n",
    "        results[i, word_index] = 1.\n",
    "    return results\n",
    "\n",
    "train_X = gen_one_hot(train_X)\n",
    "test_X = gen_one_hot(test_X)"
   ]
  },
  {
   "cell_type": "markdown",
   "metadata": {},
   "source": [
    "## 과잉적합 모델 구축"
   ]
  },
  {
   "cell_type": "code",
   "execution_count": 4,
   "metadata": {},
   "outputs": [],
   "source": [
    "model = tf.keras.Sequential()"
   ]
  },
  {
   "cell_type": "markdown",
   "metadata": {},
   "source": [
    "**(input) Dense Layer**\n",
    "- $1000$ vector $\\Rightarrow$ $16$ vector\n",
    "- $h$ = ReLU\n",
    "- parameters: $16\\,016$\n",
    "  - $\\#W = 16\\,000$\n",
    "  - $\\#b = 16$"
   ]
  },
  {
   "cell_type": "code",
   "execution_count": 5,
   "metadata": {},
   "outputs": [
    {
     "name": "stderr",
     "output_type": "stream",
     "text": [
      "/opt/anaconda3/envs/ai-lecture-3.10/lib/python3.10/site-packages/keras/src/layers/core/dense.py:87: UserWarning: Do not pass an `input_shape`/`input_dim` argument to a layer. When using Sequential models, prefer using an `Input(shape)` object as the first layer in the model instead.\n",
      "  super().__init__(activity_regularizer=activity_regularizer, **kwargs)\n",
      "2024-06-16 22:38:45.456527: I metal_plugin/src/device/metal_device.cc:1154] Metal device set to: Apple M1\n",
      "2024-06-16 22:38:45.456558: I metal_plugin/src/device/metal_device.cc:296] systemMemory: 16.00 GB\n",
      "2024-06-16 22:38:45.456563: I metal_plugin/src/device/metal_device.cc:313] maxCacheSize: 5.33 GB\n",
      "2024-06-16 22:38:45.456581: I tensorflow/core/common_runtime/pluggable_device/pluggable_device_factory.cc:305] Could not identify NUMA node of platform GPU ID 0, defaulting to 0. Your kernel may not have been built with NUMA support.\n",
      "2024-06-16 22:38:45.456594: I tensorflow/core/common_runtime/pluggable_device/pluggable_device_factory.cc:271] Created TensorFlow device (/job:localhost/replica:0/task:0/device:GPU:0 with 0 MB memory) -> physical PluggableDevice (device: 0, name: METAL, pci bus id: <undefined>)\n"
     ]
    }
   ],
   "source": [
    "model.add(tf.keras.layers.Dense(16, activation='relu', input_shape=(1000,)))"
   ]
  },
  {
   "cell_type": "code",
   "execution_count": 6,
   "metadata": {},
   "outputs": [],
   "source": [
    "model.add(tf.keras.layers.Dense(16, activation='relu'))"
   ]
  },
  {
   "cell_type": "code",
   "execution_count": 7,
   "metadata": {},
   "outputs": [],
   "source": [
    "model.add(tf.keras.layers.Dense(1, activation='sigmoid'))"
   ]
  },
  {
   "cell_type": "code",
   "execution_count": 8,
   "metadata": {},
   "outputs": [
    {
     "data": {
      "text/html": [
       "<pre style=\"white-space:pre;overflow-x:auto;line-height:normal;font-family:Menlo,'DejaVu Sans Mono',consolas,'Courier New',monospace\"><span style=\"font-weight: bold\">Model: \"sequential\"</span>\n",
       "</pre>\n"
      ],
      "text/plain": [
       "\u001b[1mModel: \"sequential\"\u001b[0m\n"
      ]
     },
     "metadata": {},
     "output_type": "display_data"
    },
    {
     "data": {
      "text/html": [
       "<pre style=\"white-space:pre;overflow-x:auto;line-height:normal;font-family:Menlo,'DejaVu Sans Mono',consolas,'Courier New',monospace\">┏━━━━━━━━━━━━━━━━━━━━━━━━━━━━━━━━━┳━━━━━━━━━━━━━━━━━━━━━━━━┳━━━━━━━━━━━━━━━┓\n",
       "┃<span style=\"font-weight: bold\"> Layer (type)                    </span>┃<span style=\"font-weight: bold\"> Output Shape           </span>┃<span style=\"font-weight: bold\">       Param # </span>┃\n",
       "┡━━━━━━━━━━━━━━━━━━━━━━━━━━━━━━━━━╇━━━━━━━━━━━━━━━━━━━━━━━━╇━━━━━━━━━━━━━━━┩\n",
       "│ dense (<span style=\"color: #0087ff; text-decoration-color: #0087ff\">Dense</span>)                   │ (<span style=\"color: #00d7ff; text-decoration-color: #00d7ff\">None</span>, <span style=\"color: #00af00; text-decoration-color: #00af00\">16</span>)             │        <span style=\"color: #00af00; text-decoration-color: #00af00\">16,016</span> │\n",
       "├─────────────────────────────────┼────────────────────────┼───────────────┤\n",
       "│ dense_1 (<span style=\"color: #0087ff; text-decoration-color: #0087ff\">Dense</span>)                 │ (<span style=\"color: #00d7ff; text-decoration-color: #00d7ff\">None</span>, <span style=\"color: #00af00; text-decoration-color: #00af00\">16</span>)             │           <span style=\"color: #00af00; text-decoration-color: #00af00\">272</span> │\n",
       "├─────────────────────────────────┼────────────────────────┼───────────────┤\n",
       "│ dense_2 (<span style=\"color: #0087ff; text-decoration-color: #0087ff\">Dense</span>)                 │ (<span style=\"color: #00d7ff; text-decoration-color: #00d7ff\">None</span>, <span style=\"color: #00af00; text-decoration-color: #00af00\">1</span>)              │            <span style=\"color: #00af00; text-decoration-color: #00af00\">17</span> │\n",
       "└─────────────────────────────────┴────────────────────────┴───────────────┘\n",
       "</pre>\n"
      ],
      "text/plain": [
       "┏━━━━━━━━━━━━━━━━━━━━━━━━━━━━━━━━━┳━━━━━━━━━━━━━━━━━━━━━━━━┳━━━━━━━━━━━━━━━┓\n",
       "┃\u001b[1m \u001b[0m\u001b[1mLayer (type)                   \u001b[0m\u001b[1m \u001b[0m┃\u001b[1m \u001b[0m\u001b[1mOutput Shape          \u001b[0m\u001b[1m \u001b[0m┃\u001b[1m \u001b[0m\u001b[1m      Param #\u001b[0m\u001b[1m \u001b[0m┃\n",
       "┡━━━━━━━━━━━━━━━━━━━━━━━━━━━━━━━━━╇━━━━━━━━━━━━━━━━━━━━━━━━╇━━━━━━━━━━━━━━━┩\n",
       "│ dense (\u001b[38;5;33mDense\u001b[0m)                   │ (\u001b[38;5;45mNone\u001b[0m, \u001b[38;5;34m16\u001b[0m)             │        \u001b[38;5;34m16,016\u001b[0m │\n",
       "├─────────────────────────────────┼────────────────────────┼───────────────┤\n",
       "│ dense_1 (\u001b[38;5;33mDense\u001b[0m)                 │ (\u001b[38;5;45mNone\u001b[0m, \u001b[38;5;34m16\u001b[0m)             │           \u001b[38;5;34m272\u001b[0m │\n",
       "├─────────────────────────────────┼────────────────────────┼───────────────┤\n",
       "│ dense_2 (\u001b[38;5;33mDense\u001b[0m)                 │ (\u001b[38;5;45mNone\u001b[0m, \u001b[38;5;34m1\u001b[0m)              │            \u001b[38;5;34m17\u001b[0m │\n",
       "└─────────────────────────────────┴────────────────────────┴───────────────┘\n"
      ]
     },
     "metadata": {},
     "output_type": "display_data"
    },
    {
     "data": {
      "text/html": [
       "<pre style=\"white-space:pre;overflow-x:auto;line-height:normal;font-family:Menlo,'DejaVu Sans Mono',consolas,'Courier New',monospace\"><span style=\"font-weight: bold\"> Total params: </span><span style=\"color: #00af00; text-decoration-color: #00af00\">16,305</span> (63.69 KB)\n",
       "</pre>\n"
      ],
      "text/plain": [
       "\u001b[1m Total params: \u001b[0m\u001b[38;5;34m16,305\u001b[0m (63.69 KB)\n"
      ]
     },
     "metadata": {},
     "output_type": "display_data"
    },
    {
     "data": {
      "text/html": [
       "<pre style=\"white-space:pre;overflow-x:auto;line-height:normal;font-family:Menlo,'DejaVu Sans Mono',consolas,'Courier New',monospace\"><span style=\"font-weight: bold\"> Trainable params: </span><span style=\"color: #00af00; text-decoration-color: #00af00\">16,305</span> (63.69 KB)\n",
       "</pre>\n"
      ],
      "text/plain": [
       "\u001b[1m Trainable params: \u001b[0m\u001b[38;5;34m16,305\u001b[0m (63.69 KB)\n"
      ]
     },
     "metadata": {},
     "output_type": "display_data"
    },
    {
     "data": {
      "text/html": [
       "<pre style=\"white-space:pre;overflow-x:auto;line-height:normal;font-family:Menlo,'DejaVu Sans Mono',consolas,'Courier New',monospace\"><span style=\"font-weight: bold\"> Non-trainable params: </span><span style=\"color: #00af00; text-decoration-color: #00af00\">0</span> (0.00 B)\n",
       "</pre>\n"
      ],
      "text/plain": [
       "\u001b[1m Non-trainable params: \u001b[0m\u001b[38;5;34m0\u001b[0m (0.00 B)\n"
      ]
     },
     "metadata": {},
     "output_type": "display_data"
    }
   ],
   "source": [
    "model.compile(loss='binary_crossentropy', optimizer='adam',\n",
    "                  metrics=['accuracy'])\n",
    "model.summary()"
   ]
  },
  {
   "cell_type": "code",
   "execution_count": 9,
   "metadata": {},
   "outputs": [
    {
     "name": "stdout",
     "output_type": "stream",
     "text": [
      "Epoch 1/20\n"
     ]
    },
    {
     "name": "stderr",
     "output_type": "stream",
     "text": [
      "2024-06-16 22:38:46.049447: I tensorflow/core/grappler/optimizers/custom_graph_optimizer_registry.cc:117] Plugin optimizer for device_type GPU is enabled.\n"
     ]
    },
    {
     "name": "stdout",
     "output_type": "stream",
     "text": [
      "49/49 - 2s - 46ms/step - accuracy: 0.6775 - loss: 0.6108 - val_accuracy: 0.8085 - val_loss: 0.4697\n",
      "Epoch 2/20\n",
      "49/49 - 1s - 12ms/step - accuracy: 0.8395 - loss: 0.3855 - val_accuracy: 0.8535 - val_loss: 0.3489\n",
      "Epoch 3/20\n",
      "49/49 - 1s - 14ms/step - accuracy: 0.8660 - loss: 0.3255 - val_accuracy: 0.8576 - val_loss: 0.3347\n",
      "Epoch 4/20\n",
      "49/49 - 1s - 14ms/step - accuracy: 0.8722 - loss: 0.3097 - val_accuracy: 0.8591 - val_loss: 0.3295\n",
      "Epoch 5/20\n",
      "49/49 - 1s - 16ms/step - accuracy: 0.8767 - loss: 0.3028 - val_accuracy: 0.8588 - val_loss: 0.3291\n",
      "Epoch 6/20\n",
      "49/49 - 1s - 14ms/step - accuracy: 0.8780 - loss: 0.2988 - val_accuracy: 0.8583 - val_loss: 0.3315\n",
      "Epoch 7/20\n",
      "49/49 - 1s - 16ms/step - accuracy: 0.8786 - loss: 0.2958 - val_accuracy: 0.8558 - val_loss: 0.3364\n",
      "Epoch 8/20\n",
      "49/49 - 1s - 14ms/step - accuracy: 0.8781 - loss: 0.2943 - val_accuracy: 0.8584 - val_loss: 0.3324\n",
      "Epoch 9/20\n",
      "49/49 - 1s - 14ms/step - accuracy: 0.8802 - loss: 0.2886 - val_accuracy: 0.8585 - val_loss: 0.3303\n",
      "Epoch 10/20\n",
      "49/49 - 1s - 14ms/step - accuracy: 0.8841 - loss: 0.2829 - val_accuracy: 0.8582 - val_loss: 0.3337\n",
      "Epoch 11/20\n",
      "49/49 - 1s - 12ms/step - accuracy: 0.8871 - loss: 0.2764 - val_accuracy: 0.8587 - val_loss: 0.3318\n",
      "Epoch 12/20\n",
      "49/49 - 1s - 12ms/step - accuracy: 0.8900 - loss: 0.2681 - val_accuracy: 0.8583 - val_loss: 0.3350\n",
      "Epoch 13/20\n",
      "49/49 - 1s - 14ms/step - accuracy: 0.8945 - loss: 0.2607 - val_accuracy: 0.8585 - val_loss: 0.3368\n",
      "Epoch 14/20\n",
      "49/49 - 1s - 12ms/step - accuracy: 0.8982 - loss: 0.2520 - val_accuracy: 0.8559 - val_loss: 0.3383\n",
      "Epoch 15/20\n",
      "49/49 - 1s - 13ms/step - accuracy: 0.9017 - loss: 0.2433 - val_accuracy: 0.8563 - val_loss: 0.3431\n",
      "Epoch 16/20\n",
      "49/49 - 1s - 13ms/step - accuracy: 0.9061 - loss: 0.2348 - val_accuracy: 0.8538 - val_loss: 0.3465\n",
      "Epoch 17/20\n",
      "49/49 - 1s - 12ms/step - accuracy: 0.9108 - loss: 0.2268 - val_accuracy: 0.8539 - val_loss: 0.3545\n",
      "Epoch 18/20\n",
      "49/49 - 1s - 12ms/step - accuracy: 0.9158 - loss: 0.2182 - val_accuracy: 0.8523 - val_loss: 0.3603\n",
      "Epoch 19/20\n",
      "49/49 - 1s - 12ms/step - accuracy: 0.9196 - loss: 0.2075 - val_accuracy: 0.8501 - val_loss: 0.3667\n",
      "Epoch 20/20\n",
      "49/49 - 1s - 12ms/step - accuracy: 0.9237 - loss: 0.2005 - val_accuracy: 0.8486 - val_loss: 0.3737\n"
     ]
    }
   ],
   "source": [
    "history = model.fit(\n",
    "    train_X,\n",
    "    train_y,\n",
    "    epochs=20,\n",
    "    batch_size=512,\n",
    "    validation_data=(test_X, test_y),\n",
    "    verbose=2\n",
    ")"
   ]
  },
  {
   "cell_type": "code",
   "execution_count": 10,
   "metadata": {},
   "outputs": [
    {
     "data": {
      "image/png": "[encoded data removed]",
      "text/plain": [
       "<Figure size 640x480 with 1 Axes>"
      ]
     },
     "metadata": {},
     "output_type": "display_data"
    }
   ],
   "source": [
    "loss = history.history['loss']\n",
    "val_loss = history.history['val_loss']\n",
    "accuracy = history.history['accuracy']\n",
    "\n",
    "epochs = range(1, len(accuracy) + 1)\n",
    "\n",
    "plt.plot(loss)\n",
    "plt.plot(val_loss)\n",
    "plt.xlabel('epochs')\n",
    "plt.ylabel('loss')\n",
    "plt.legend(['train err', 'validation err'])\n",
    "plt.show()"
   ]
  },
  {
   "cell_type": "markdown",
   "metadata": {},
   "source": [
    "## 가중치 규제항 추가"
   ]
  },
  {
   "cell_type": "markdown",
   "metadata": {},
   "source": [
    "가중치의 값이 너무 크면, 판단 경계선이 복잡해지고 과잉 적합이 발생함\n",
    "\n",
    "$\\Rightarrow$ 가중치 규제\n",
    "\n",
    "- L1 규제: $Loss = Cost + \\lambda \\Sigma |W|$\n",
    "- L2 규제: $Loss = Cost + \\lambda \\Sigma W^2$"
   ]
  },
  {
   "cell_type": "code",
   "execution_count": 11,
   "metadata": {},
   "outputs": [],
   "source": [
    "model = tf.keras.Sequential()"
   ]
  },
  {
   "cell_type": "code",
   "execution_count": 12,
   "metadata": {},
   "outputs": [],
   "source": [
    "model.add(tf.keras.layers.Dense(16, activation='relu', kernel_regularizer=tf.keras.regularizers.l2(.001), input_shape=(1000, )))\n",
    "model.add(tf.keras.layers.Dense(16, kernel_regularizer=tf.keras.regularizers.l2(.001), activation='relu'))\n",
    "model.add(tf.keras.layers.Dense(1,activation='sigmoid'))"
   ]
  },
  {
   "cell_type": "code",
   "execution_count": 13,
   "metadata": {},
   "outputs": [],
   "source": [
    "model.compile()"
   ]
  },
  {
   "cell_type": "code",
   "execution_count": 14,
   "metadata": {},
   "outputs": [
    {
     "name": "stdout",
     "output_type": "stream",
     "text": [
      "Epoch 1/20\n"
     ]
    },
    {
     "name": "stderr",
     "output_type": "stream",
     "text": [
      "/opt/anaconda3/envs/ai-lecture-3.10/lib/python3.10/site-packages/keras/src/optimizers/base_optimizer.py:664: UserWarning: Gradients do not exist for variables ['bias', 'bias', 'kernel', 'bias'] when minimizing the loss. If using `model.compile()`, did you forget to provide a `loss` argument?\n",
      "  warnings.warn(\n"
     ]
    },
    {
     "name": "stdout",
     "output_type": "stream",
     "text": [
      "49/49 - 1s - 11ms/step - loss: 0.0389 - val_loss: 0.0302\n",
      "Epoch 2/20\n",
      "49/49 - 0s - 4ms/step - loss: 0.0242 - val_loss: 0.0189\n",
      "Epoch 3/20\n",
      "49/49 - 0s - 5ms/step - loss: 0.0152 - val_loss: 0.0118\n",
      "Epoch 4/20\n",
      "49/49 - 0s - 4ms/step - loss: 0.0095 - val_loss: 0.0073\n",
      "Epoch 5/20\n",
      "49/49 - 0s - 5ms/step - loss: 0.0059 - val_loss: 0.0045\n",
      "Epoch 6/20\n",
      "49/49 - 0s - 5ms/step - loss: 0.0036 - val_loss: 0.0027\n",
      "Epoch 7/20\n",
      "49/49 - 0s - 5ms/step - loss: 0.0021 - val_loss: 0.0016\n",
      "Epoch 8/20\n",
      "49/49 - 0s - 5ms/step - loss: 0.0012 - val_loss: 9.1768e-04\n",
      "Epoch 9/20\n",
      "49/49 - 0s - 5ms/step - loss: 7.0349e-04 - val_loss: 5.1591e-04\n",
      "Epoch 10/20\n",
      "49/49 - 0s - 5ms/step - loss: 3.9241e-04 - val_loss: 2.8521e-04\n",
      "Epoch 11/20\n",
      "49/49 - 0s - 5ms/step - loss: 2.1574e-04 - val_loss: 1.5584e-04\n",
      "Epoch 12/20\n",
      "49/49 - 0s - 5ms/step - loss: 1.1746e-04 - val_loss: 8.4520e-05\n",
      "Epoch 13/20\n",
      "49/49 - 0s - 5ms/step - loss: 6.3571e-05 - val_loss: 4.5639e-05\n",
      "Epoch 14/20\n",
      "49/49 - 0s - 5ms/step - loss: 3.4285e-05 - val_loss: 2.4582e-05\n",
      "Epoch 15/20\n",
      "49/49 - 0s - 5ms/step - loss: 1.8454e-05 - val_loss: 1.3222e-05\n",
      "Epoch 16/20\n",
      "49/49 - 0s - 5ms/step - loss: 9.9226e-06 - val_loss: 7.1066e-06\n",
      "Epoch 17/20\n",
      "49/49 - 0s - 5ms/step - loss: 5.3320e-06 - val_loss: 3.8180e-06\n",
      "Epoch 18/20\n",
      "49/49 - 0s - 5ms/step - loss: 2.8643e-06 - val_loss: 2.0508e-06\n",
      "Epoch 19/20\n",
      "49/49 - 0s - 5ms/step - loss: 1.5384e-06 - val_loss: 1.1014e-06\n",
      "Epoch 20/20\n",
      "49/49 - 0s - 5ms/step - loss: 8.2621e-07 - val_loss: 5.9148e-07\n"
     ]
    },
    {
     "data": {
      "image/png": "[encoded data removed]",
      "text/plain": [
       "<Figure size 640x480 with 1 Axes>"
      ]
     },
     "metadata": {},
     "output_type": "display_data"
    }
   ],
   "source": [
    "history = model.fit(\n",
    "    train_X,\n",
    "    train_y,\n",
    "    epochs=20,\n",
    "    batch_size=512,\n",
    "    validation_data=(test_X, test_y),\n",
    "    verbose=2\n",
    ")\n",
    "\n",
    "loss = history.history['loss']\n",
    "val_loss = history.history['val_loss']\n",
    "\n",
    "epochs = range(1, len(accuracy) + 1)\n",
    "\n",
    "plt.plot(loss)\n",
    "plt.plot(val_loss)\n",
    "plt.xlabel('epochs')\n",
    "plt.ylabel('loss')\n",
    "plt.legend(['train err', 'validation err'])\n",
    "plt.show()"
   ]
  }
 ],
 "metadata": {
  "kernelspec": {
   "display_name": "ai-lecture-3.10",
   "language": "python",
   "name": "python3"
  },
  "language_info": {
   "codemirror_mode": {
    "name": "ipython",
    "version": 3
   },
   "file_extension": ".py",
   "mimetype": "text/x-python",
   "name": "python",
   "nbconvert_exporter": "python",
   "pygments_lexer": "ipython3",
   "version": "3.10.14"
  }
 },
 "nbformat": 4,
 "nbformat_minor": 2
}
