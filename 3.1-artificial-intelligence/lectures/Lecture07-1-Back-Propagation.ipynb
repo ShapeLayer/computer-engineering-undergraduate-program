{
 "cells": [
  {
   "cell_type": "markdown",
   "metadata": {
    "id": "uwroXz9OQdHB"
   },
   "source": [
    "# 오차역전파법"
   ]
  },
  {
   "cell_type": "markdown",
   "metadata": {
    "id": "hpge5RgvQgHQ"
   },
   "source": [
    "## 곱셈노드\n",
    "\n",
    "$z = x \\times y$\n",
    "\n",
    "**forwarding**\n",
    "\n",
    "$z$\n",
    "\n",
    "**backwarding**\n",
    "\n",
    "1. $x$ side: $\\frac{\\partial Loss}{\\partial x} = \\frac{\\partial Loss}{\\partial z} \\frac{\\partial z}{\\partial x} = \\frac{\\partial Loss}{\\partial z} \\frac{\\partial xy}{\\partial x} = dout \\cdot y$\n",
    "2. $y$ side: $\\frac{\\partial Loss}{\\partial y} = \\frac{\\partial Loss}{\\partial z} \\frac{\\partial z}{\\partial y} = \\frac{\\partial Loss}{\\partial z} \\frac{\\partial xy}{\\partial y} = dout \\cdot x$"
   ]
  },
  {
   "cell_type": "code",
   "execution_count": 1,
   "metadata": {
    "id": "WvXClYfpP_Gu"
   },
   "outputs": [],
   "source": [
    "class MulLayer:\n",
    "    def __init__(self):\n",
    "        self.x = None\n",
    "        self.y = None\n",
    "\n",
    "    def forward(self, x, y):\n",
    "        self.x = x\n",
    "        self.y = y\n",
    "        return x * y\n",
    "\n",
    "    def backward(self, dout):\n",
    "        dx = dout * self.y\n",
    "        dy = dout * self.x\n",
    "        return dx, dy"
   ]
  },
  {
   "cell_type": "markdown",
   "metadata": {
    "id": "sIhUbmJFQ8Z4"
   },
   "source": [
    "## 예제 1"
   ]
  },
  {
   "cell_type": "code",
   "execution_count": 2,
   "metadata": {
    "colab": {
     "base_uri": "https://localhost:8080/"
    },
    "id": "7IMV4dHbQ-An",
    "outputId": "36d18442-73e8-475e-a8fe-718421e566f7"
   },
   "outputs": [
    {
     "name": "stdout",
     "output_type": "stream",
     "text": [
      "Price: 220.00000000000003\n",
      "dapple:  2.2\n",
      "dnum:  110.00000000000001\n",
      "dtax:  200\n"
     ]
    }
   ],
   "source": [
    "apple = 100\n",
    "apple_num = 2\n",
    "tax = 1.1\n",
    "\n",
    "mul_apple_layer = MulLayer()\n",
    "mul_tax_layer = MulLayer()\n",
    "\n",
    "# Forward\n",
    "apple_price = mul_apple_layer.forward(apple, apple_num)\n",
    "price = mul_tax_layer.forward(apple_price, tax)\n",
    "print(\"Price:\", price)\n",
    "\n",
    "# Backward\n",
    "dout = 1\n",
    "dapple_price, dtax = mul_tax_layer.backward(dout)\n",
    "dapple, dnum = mul_apple_layer.backward(dapple_price)\n",
    "\n",
    "print(\"dapple: \", dapple)\n",
    "print(\"dnum: \", dnum)\n",
    "print(\"dtax: \", dtax)"
   ]
  },
  {
   "cell_type": "markdown",
   "metadata": {
    "id": "7-NOBbNqSxgw"
   },
   "source": [
    "## 덧셈 노드\n",
    "\n",
    "$z = x + y$\n",
    "\n",
    "**forwarding**\n",
    "\n",
    "$z$\n",
    "\n",
    "**backwarding**\n",
    "\n",
    "1. $x$ side: $\\frac{\\partial Loss}{\\partial x} = \\frac{\\partial Loss}{\\partial z} + \\frac{\\partial z}{\\partial x} = \\frac{\\partial Loss}{\\partial z} \\frac{\\partial (x + y)}{\\partial x} = dout \\cdot 1$\n",
    "2. $y$ side: $\\frac{\\partial Loss}{\\partial y} = \\frac{\\partial Loss}{\\partial z} + \\frac{\\partial z}{\\partial y} = \\frac{\\partial Loss}{\\partial z} \\frac{\\partial (x + y)}{\\partial y} = dout \\cdot 1$"
   ]
  },
  {
   "cell_type": "code",
   "execution_count": 3,
   "metadata": {
    "id": "duL93310RqPQ"
   },
   "outputs": [],
   "source": [
    "class AddLayer:\n",
    "    def __init__(self):\n",
    "        pass\n",
    "\n",
    "    def forward(self, x, y):\n",
    "        return x + y\n",
    "\n",
    "    def backward(self, dout):\n",
    "        dx = dout * 1\n",
    "        dy = dout * 1\n",
    "        return dx, dy"
   ]
  },
  {
   "cell_type": "markdown",
   "metadata": {
    "id": "xxlI0vGMS4GP"
   },
   "source": [
    "## 예제 2"
   ]
  },
  {
   "cell_type": "code",
   "execution_count": 4,
   "metadata": {
    "colab": {
     "base_uri": "https://localhost:8080/"
    },
    "id": "b0qGjv6bS30P",
    "outputId": "840165a9-045b-4bdd-cc3a-3f7199784dda"
   },
   "outputs": [
    {
     "name": "stdout",
     "output_type": "stream",
     "text": [
      "price: 715\n",
      "dApple: 2.2\n",
      "dApple_num: 110\n",
      "dOrange: 3.3000000000000003\n",
      "dOrange_num: 165\n",
      "dTax: 650\n"
     ]
    }
   ],
   "source": [
    "apple = 100\n",
    "apple_num = 2\n",
    "orange = 150\n",
    "orange_num = 3\n",
    "tax = 1.1\n",
    "\n",
    "# layer\n",
    "mul_apple_layer = MulLayer()\n",
    "mul_orange_layer = MulLayer()\n",
    "add_apple_orange_layer = AddLayer()\n",
    "mul_tax_layer = MulLayer()\n",
    "\n",
    "# forward\n",
    "apple_price = mul_apple_layer.forward(apple, apple_num)  # (1)\n",
    "orange_price = mul_orange_layer.forward(orange, orange_num)  # (2)\n",
    "all_price = add_apple_orange_layer.forward(apple_price, orange_price)  # (3)\n",
    "price = mul_tax_layer.forward(all_price, tax)  # (4)\n",
    "\n",
    "# backward\n",
    "dprice = 1\n",
    "dall_price, dtax = mul_tax_layer.backward(dprice)  # (4)\n",
    "dapple_price, dorange_price = add_apple_orange_layer.backward(dall_price)  # (3)\n",
    "dorange, dorange_num = mul_orange_layer.backward(dorange_price)  # (2)\n",
    "dapple, dapple_num = mul_apple_layer.backward(dapple_price)  # (1)\n",
    "\n",
    "print(\"price:\", int(price))\n",
    "print(\"dApple:\", dapple)\n",
    "print(\"dApple_num:\", int(dapple_num))\n",
    "print(\"dOrange:\", dorange)\n",
    "print(\"dOrange_num:\", int(dorange_num))\n",
    "print(\"dTax:\", dtax)"
   ]
  }
 ],
 "metadata": {
  "colab": {
   "provenance": []
  },
  "kernelspec": {
   "display_name": "Python 3 (ipykernel)",
   "language": "python",
   "name": "python3"
  },
  "language_info": {
   "codemirror_mode": {
    "name": "ipython",
    "version": 3
   },
   "file_extension": ".py",
   "mimetype": "text/x-python",
   "name": "python",
   "nbconvert_exporter": "python",
   "pygments_lexer": "ipython3",
   "version": "3.10.14"
  }
 },
 "nbformat": 4,
 "nbformat_minor": 4
}
