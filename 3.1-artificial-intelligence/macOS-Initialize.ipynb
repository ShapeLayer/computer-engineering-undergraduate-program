{
 "cells": [
  {
   "cell_type": "markdown",
   "metadata": {},
   "source": [
    "# macOS 환경 구성"
   ]
  },
  {
   "cell_type": "markdown",
   "metadata": {},
   "source": [
    "`tensorflow-deps` requires python < 3.11 (2024-06-05 updated)\n",
    "\n",
    "```\n",
    "Could not solve for environment specs\n",
    "The following packages are incompatible\n",
    "├─ pin-1 is installable and it requires\n",
    "│  └─ python 3.11.* , which can be installed;\n",
    "└─ tensorflow-deps is not installable because there are no viable options\n",
    "   ├─ tensorflow-deps 2.10.0 would require\n",
    "   │  └─ numpy >=1.23.2,<1.23.3 , which does not exist (perhaps a missing channel);\n",
    "   ├─ tensorflow-deps [2.5.0|2.6.0|2.7.0] would require\n",
    "   │  └─ absl-py >=0.10,<0.11 , which does not exist (perhaps a missing channel);\n",
    "   └─ tensorflow-deps [2.8.0|2.9.0] would require\n",
    "      ├─ h5py >=3.6.0,<3.7  but there are no viable options\n",
    "      │  ├─ h5py 3.6.0 would require\n",
    "      │  │  └─ python >=3.10,<3.11.0a0 , which conflicts with any installable versions previously reported;\n",
    "      │  ├─ h5py 3.6.0 would require\n",
    "      │  │  └─ python >=3.8,<3.9.0a0 , which conflicts with any installable versions previously reported;\n",
    "      │  └─ h5py 3.6.0 would require\n",
    "      │     └─ python >=3.9,<3.10.0a0 , which conflicts with any installable versions previously reported;\n",
    "      └─ numpy >=1.21.2,<1.22  but there are no viable options\n",
    "         ├─ numpy [1.21.2|1.21.5|1.21.6] would require\n",
    "         │  └─ python >=3.10,<3.11.0a0 , which conflicts with any installable versions previously reported;\n",
    "         ├─ numpy [1.21.2|1.21.5|1.21.6] would require\n",
    "         │  └─ python >=3.8,<3.9.0a0 , which conflicts with any installable versions previously reported;\n",
    "         └─ numpy [1.21.2|1.21.5|1.21.6] would require\n",
    "            └─ python >=3.9,<3.10.0a0 , which conflicts with any installable versions previously reported.\n",
    "```\n",
    "\n",
    "\n",
    "**Create Conda Environment**\n",
    "```\n",
    "conda create -n <name> python=3.10\n",
    "```\n",
    "\n",
    "**Install Packages**\n",
    "```\n",
    "conda install -c apple tensorflow-deps\n",
    "pip install tensorflow-macos tensorflow-metal\n",
    "```"
   ]
  },
  {
   "cell_type": "code",
   "execution_count": 2,
   "metadata": {},
   "outputs": [
    {
     "name": "stdout",
     "output_type": "stream",
     "text": [
      "Platform: macOS-14.5-arm64-arm-64bit\n",
      "Python: 3.10.14 (main, May  6 2024, 14:42:37) [Clang 14.0.6 ]\n",
      "Tensorflow: 2.16.1\n",
      "Keras: 3.3.3\n",
      "\n",
      "GPU available: [PhysicalDevice(name='/physical_device:GPU:0', device_type='GPU')]\n"
     ]
    }
   ],
   "source": [
    "import sys\n",
    "import platform\n",
    "import tensorflow as tf\n",
    "print(f'Platform: {platform.platform()}')\n",
    "print(f'Python: {sys.version}')\n",
    "print(f'Tensorflow: {tf.__version__}')\n",
    "print(f'Keras: {tf.keras.__version__}')\n",
    "print()\n",
    "print(f'GPU available: {tf.config.list_physical_devices(\"GPU\")}')"
   ]
  },
  {
   "cell_type": "markdown",
   "metadata": {},
   "source": [
    "**In actual use**\n",
    "\n",
    "![](./.static/macOS-learning-gpu-burst.png)"
   ]
  }
 ],
 "metadata": {
  "kernelspec": {
   "display_name": "ai-lecture-3.10",
   "language": "python",
   "name": "python3"
  },
  "language_info": {
   "codemirror_mode": {
    "name": "ipython",
    "version": 3
   },
   "file_extension": ".py",
   "mimetype": "text/x-python",
   "name": "python",
   "nbconvert_exporter": "python",
   "pygments_lexer": "ipython3",
   "version": "3.10.14"
  }
 },
 "nbformat": 4,
 "nbformat_minor": 2
}
